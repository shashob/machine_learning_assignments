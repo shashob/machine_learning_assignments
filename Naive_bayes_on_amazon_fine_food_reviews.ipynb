{
 "cells": [
  {
   "cell_type": "markdown",
   "metadata": {
    "colab_type": "text",
    "id": "UIn1GsFNJkjH"
   },
   "source": [
    "# Amazon Fine Food Reviews Analysis\n",
    "\n",
    "\n",
    "Data Source: https://www.kaggle.com/snap/amazon-fine-food-reviews <br>\n",
    "\n",
    "EDA: https://nycdatascience.com/blog/student-works/amazon-fine-foods-visualization/\n",
    "\n",
    "\n",
    "The Amazon Fine Food Reviews dataset consists of reviews of fine foods from Amazon.<br>\n",
    "\n",
    "Number of reviews: 568,454<br>\n",
    "Number of users: 256,059<br>\n",
    "Number of products: 74,258<br>\n",
    "Timespan: Oct 1999 - Oct 2012<br>\n",
    "Number of Attributes/Columns in data: 10 \n",
    "\n",
    "Attribute Information:\n",
    "\n",
    "1. Id\n",
    "2. ProductId - unique identifier for the product\n",
    "3. UserId - unqiue identifier for the user\n",
    "4. ProfileName\n",
    "5. HelpfulnessNumerator - number of users who found the review helpful\n",
    "6. HelpfulnessDenominator - number of users who indicated whether they found the review helpful or not\n",
    "7. Score - rating between 1 and 5\n",
    "8. Time - timestamp for the review\n",
    "9. Summary - brief summary of the review\n",
    "10. Text - text of the review\n",
    "\n",
    "\n",
    "#### Objective:\n",
    "Given a review, determine whether the review is positive (rating of 4 or 5) or negative (rating of 1 or 2).\n",
    "\n",
    "<br>\n",
    "[Q] How to determine if a review is positive or negative?<br>\n",
    "<br> \n",
    "[Ans] We could use Score/Rating. A rating of 4 or 5 can be cosnidered as a positive review. A rating of 1 or 2 can be considered as negative one. A review of rating 3 is considered nuetral and such reviews are ignored from our analysis. This is an approximate and proxy way of determining the polarity (positivity/negativity) of a review.\n",
    "\n",
    "\n"
   ]
  },
  {
   "cell_type": "markdown",
   "metadata": {
    "colab_type": "text",
    "id": "5Uf26aoLJkjJ"
   },
   "source": [
    "# [1]. Reading Data"
   ]
  },
  {
   "cell_type": "markdown",
   "metadata": {
    "colab_type": "text",
    "id": "yo-LaJg3JkjK"
   },
   "source": [
    "## [1.1] Loading the data\n",
    "\n",
    "The dataset is available in two forms\n",
    "1. .csv file\n",
    "2. SQLite Database\n",
    "\n",
    "In order to load the data, We have used the SQLITE dataset as it is easier to query the data and visualise the data efficiently.\n",
    "<br> \n",
    "\n",
    "Here as we only want to get the global sentiment of the recommendations (positive or negative), we will purposefully ignore all Scores equal to 3. If the score is above 3, then the recommendation wil be set to \"positive\". Otherwise, it will be set to \"negative\"."
   ]
  },
  {
   "cell_type": "code",
   "execution_count": 1,
   "metadata": {
    "colab": {},
    "colab_type": "code",
    "collapsed": true,
    "id": "dLYq3BkfJkjL"
   },
   "outputs": [],
   "source": [
    "%matplotlib inline\n",
    "import warnings\n",
    "warnings.filterwarnings(\"ignore\")\n",
    "\n",
    "\n",
    "import sqlite3\n",
    "import pandas as pd\n",
    "import numpy as np\n",
    "import nltk\n",
    "import string\n",
    "import matplotlib.pyplot as plt\n",
    "import seaborn as sns\n",
    "from sklearn.feature_extraction.text import TfidfTransformer\n",
    "from sklearn.feature_extraction.text import TfidfVectorizer\n",
    "\n",
    "from sklearn.feature_extraction.text import CountVectorizer\n",
    "from sklearn.metrics import confusion_matrix\n",
    "from sklearn import metrics\n",
    "from sklearn.metrics import roc_curve, auc\n",
    "from nltk.stem.porter import PorterStemmer\n",
    "\n",
    "import re\n",
    "# Tutorial about Python regular expressions: https://pymotw.com/2/re/\n",
    "import string\n",
    "from nltk.corpus import stopwords\n",
    "from nltk.stem import PorterStemmer\n",
    "from nltk.stem.wordnet import WordNetLemmatizer\n",
    "\n",
    "from gensim.models import Word2Vec\n",
    "from gensim.models import KeyedVectors\n",
    "import pickle\n",
    "\n",
    "from tqdm import tqdm\n",
    "import os"
   ]
  },
  {
   "cell_type": "code",
   "execution_count": 2,
   "metadata": {
    "colab": {},
    "colab_type": "code",
    "id": "rXVxnx_NJkjO",
    "outputId": "98628980-4d6e-4c53-913f-2d207932d2d0"
   },
   "outputs": [
    {
     "name": "stdout",
     "output_type": "stream",
     "text": [
      "Number of data points in our data (150000, 10)\n"
     ]
    },
    {
     "data": {
      "text/html": [
       "<div>\n",
       "<style>\n",
       "    .dataframe thead tr:only-child th {\n",
       "        text-align: right;\n",
       "    }\n",
       "\n",
       "    .dataframe thead th {\n",
       "        text-align: left;\n",
       "    }\n",
       "\n",
       "    .dataframe tbody tr th {\n",
       "        vertical-align: top;\n",
       "    }\n",
       "</style>\n",
       "<table border=\"1\" class=\"dataframe\">\n",
       "  <thead>\n",
       "    <tr style=\"text-align: right;\">\n",
       "      <th></th>\n",
       "      <th>Id</th>\n",
       "      <th>ProductId</th>\n",
       "      <th>UserId</th>\n",
       "      <th>ProfileName</th>\n",
       "      <th>HelpfulnessNumerator</th>\n",
       "      <th>HelpfulnessDenominator</th>\n",
       "      <th>Score</th>\n",
       "      <th>Time</th>\n",
       "      <th>Summary</th>\n",
       "      <th>Text</th>\n",
       "    </tr>\n",
       "  </thead>\n",
       "  <tbody>\n",
       "    <tr>\n",
       "      <th>0</th>\n",
       "      <td>1</td>\n",
       "      <td>B001E4KFG0</td>\n",
       "      <td>A3SGXH7AUHU8GW</td>\n",
       "      <td>delmartian</td>\n",
       "      <td>1</td>\n",
       "      <td>1</td>\n",
       "      <td>1</td>\n",
       "      <td>1303862400</td>\n",
       "      <td>Good Quality Dog Food</td>\n",
       "      <td>I have bought several of the Vitality canned d...</td>\n",
       "    </tr>\n",
       "    <tr>\n",
       "      <th>1</th>\n",
       "      <td>2</td>\n",
       "      <td>B00813GRG4</td>\n",
       "      <td>A1D87F6ZCVE5NK</td>\n",
       "      <td>dll pa</td>\n",
       "      <td>0</td>\n",
       "      <td>0</td>\n",
       "      <td>0</td>\n",
       "      <td>1346976000</td>\n",
       "      <td>Not as Advertised</td>\n",
       "      <td>Product arrived labeled as Jumbo Salted Peanut...</td>\n",
       "    </tr>\n",
       "    <tr>\n",
       "      <th>2</th>\n",
       "      <td>3</td>\n",
       "      <td>B000LQOCH0</td>\n",
       "      <td>ABXLMWJIXXAIN</td>\n",
       "      <td>Natalia Corres \"Natalia Corres\"</td>\n",
       "      <td>1</td>\n",
       "      <td>1</td>\n",
       "      <td>1</td>\n",
       "      <td>1219017600</td>\n",
       "      <td>\"Delight\" says it all</td>\n",
       "      <td>This is a confection that has been around a fe...</td>\n",
       "    </tr>\n",
       "  </tbody>\n",
       "</table>\n",
       "</div>"
      ],
      "text/plain": [
       "   Id   ProductId          UserId                      ProfileName  \\\n",
       "0   1  B001E4KFG0  A3SGXH7AUHU8GW                       delmartian   \n",
       "1   2  B00813GRG4  A1D87F6ZCVE5NK                           dll pa   \n",
       "2   3  B000LQOCH0   ABXLMWJIXXAIN  Natalia Corres \"Natalia Corres\"   \n",
       "\n",
       "   HelpfulnessNumerator  HelpfulnessDenominator  Score        Time  \\\n",
       "0                     1                       1      1  1303862400   \n",
       "1                     0                       0      0  1346976000   \n",
       "2                     1                       1      1  1219017600   \n",
       "\n",
       "                 Summary                                               Text  \n",
       "0  Good Quality Dog Food  I have bought several of the Vitality canned d...  \n",
       "1      Not as Advertised  Product arrived labeled as Jumbo Salted Peanut...  \n",
       "2  \"Delight\" says it all  This is a confection that has been around a fe...  "
      ]
     },
     "execution_count": 2,
     "metadata": {},
     "output_type": "execute_result"
    }
   ],
   "source": [
    "# using SQLite Table to read data.\n",
    "con = sqlite3.connect('database.sqlite') \n",
    "\n",
    "# filtering only positive and negative reviews i.e. \n",
    "# not taking into consideration those reviews with Score=3\n",
    "# SELECT * FROM Reviews WHERE Score != 3 LIMIT 500000, will give top 500000 data points\n",
    "# you can change the number to any other number based on your computing power\n",
    "\n",
    "# filtered_data = pd.read_sql_query(\"\"\" SELECT * FROM Reviews WHERE Score != 3 LIMIT 500000\"\"\", con) \n",
    "# for tsne assignment you can take 5k data points\n",
    "\n",
    "filtered_data = pd.read_sql_query(\"\"\" SELECT * FROM Reviews WHERE Score != 3 LIMIT 150000\"\"\", con) \n",
    "\n",
    "# Give reviews with Score>3 a positive rating(1), and reviews with a score<3 a negative rating(0).\n",
    "def partition(x):\n",
    "    if x < 3:\n",
    "        return 0\n",
    "    return 1\n",
    "\n",
    "#changing reviews with score less than 3 to be positive and vice-versa\n",
    "actualScore = filtered_data['Score']\n",
    "positiveNegative = actualScore.map(partition) \n",
    "filtered_data['Score'] = positiveNegative\n",
    "print(\"Number of data points in our data\", filtered_data.shape)\n",
    "filtered_data.head(3)"
   ]
  },
  {
   "cell_type": "code",
   "execution_count": 3,
   "metadata": {
    "colab": {},
    "colab_type": "code",
    "collapsed": true,
    "id": "ZLasp3QxJkjS"
   },
   "outputs": [],
   "source": [
    "display = pd.read_sql_query(\"\"\"\n",
    "SELECT UserId, ProductId, ProfileName, Time, Score, Text, COUNT(*)\n",
    "FROM Reviews\n",
    "GROUP BY UserId\n",
    "HAVING COUNT(*)>1\n",
    "\"\"\", con)"
   ]
  },
  {
   "cell_type": "code",
   "execution_count": 4,
   "metadata": {
    "colab": {},
    "colab_type": "code",
    "id": "pHzk_lUkJkjW",
    "outputId": "3461f626-dc72-4b0d-af37-c3625e7e81b2",
    "scrolled": true
   },
   "outputs": [
    {
     "name": "stdout",
     "output_type": "stream",
     "text": [
      "(80668, 7)\n"
     ]
    },
    {
     "data": {
      "text/html": [
       "<div>\n",
       "<style>\n",
       "    .dataframe thead tr:only-child th {\n",
       "        text-align: right;\n",
       "    }\n",
       "\n",
       "    .dataframe thead th {\n",
       "        text-align: left;\n",
       "    }\n",
       "\n",
       "    .dataframe tbody tr th {\n",
       "        vertical-align: top;\n",
       "    }\n",
       "</style>\n",
       "<table border=\"1\" class=\"dataframe\">\n",
       "  <thead>\n",
       "    <tr style=\"text-align: right;\">\n",
       "      <th></th>\n",
       "      <th>UserId</th>\n",
       "      <th>ProductId</th>\n",
       "      <th>ProfileName</th>\n",
       "      <th>Time</th>\n",
       "      <th>Score</th>\n",
       "      <th>Text</th>\n",
       "      <th>COUNT(*)</th>\n",
       "    </tr>\n",
       "  </thead>\n",
       "  <tbody>\n",
       "    <tr>\n",
       "      <th>0</th>\n",
       "      <td>#oc-R115TNMSPFT9I7</td>\n",
       "      <td>B007Y59HVM</td>\n",
       "      <td>Breyton</td>\n",
       "      <td>1331510400</td>\n",
       "      <td>2</td>\n",
       "      <td>Overall its just OK when considering the price...</td>\n",
       "      <td>2</td>\n",
       "    </tr>\n",
       "    <tr>\n",
       "      <th>1</th>\n",
       "      <td>#oc-R11D9D7SHXIJB9</td>\n",
       "      <td>B005HG9ET0</td>\n",
       "      <td>Louis E. Emory \"hoppy\"</td>\n",
       "      <td>1342396800</td>\n",
       "      <td>5</td>\n",
       "      <td>My wife has recurring extreme muscle spasms, u...</td>\n",
       "      <td>3</td>\n",
       "    </tr>\n",
       "    <tr>\n",
       "      <th>2</th>\n",
       "      <td>#oc-R11DNU2NBKQ23Z</td>\n",
       "      <td>B007Y59HVM</td>\n",
       "      <td>Kim Cieszykowski</td>\n",
       "      <td>1348531200</td>\n",
       "      <td>1</td>\n",
       "      <td>This coffee is horrible and unfortunately not ...</td>\n",
       "      <td>2</td>\n",
       "    </tr>\n",
       "    <tr>\n",
       "      <th>3</th>\n",
       "      <td>#oc-R11O5J5ZVQE25C</td>\n",
       "      <td>B005HG9ET0</td>\n",
       "      <td>Penguin Chick</td>\n",
       "      <td>1346889600</td>\n",
       "      <td>5</td>\n",
       "      <td>This will be the bottle that you grab from the...</td>\n",
       "      <td>3</td>\n",
       "    </tr>\n",
       "    <tr>\n",
       "      <th>4</th>\n",
       "      <td>#oc-R12KPBODL2B5ZD</td>\n",
       "      <td>B007OSBE1U</td>\n",
       "      <td>Christopher P. Presta</td>\n",
       "      <td>1348617600</td>\n",
       "      <td>1</td>\n",
       "      <td>I didnt like this coffee. Instead of telling y...</td>\n",
       "      <td>2</td>\n",
       "    </tr>\n",
       "  </tbody>\n",
       "</table>\n",
       "</div>"
      ],
      "text/plain": [
       "               UserId   ProductId             ProfileName        Time  Score  \\\n",
       "0  #oc-R115TNMSPFT9I7  B007Y59HVM                 Breyton  1331510400      2   \n",
       "1  #oc-R11D9D7SHXIJB9  B005HG9ET0  Louis E. Emory \"hoppy\"  1342396800      5   \n",
       "2  #oc-R11DNU2NBKQ23Z  B007Y59HVM        Kim Cieszykowski  1348531200      1   \n",
       "3  #oc-R11O5J5ZVQE25C  B005HG9ET0           Penguin Chick  1346889600      5   \n",
       "4  #oc-R12KPBODL2B5ZD  B007OSBE1U   Christopher P. Presta  1348617600      1   \n",
       "\n",
       "                                                Text  COUNT(*)  \n",
       "0  Overall its just OK when considering the price...         2  \n",
       "1  My wife has recurring extreme muscle spasms, u...         3  \n",
       "2  This coffee is horrible and unfortunately not ...         2  \n",
       "3  This will be the bottle that you grab from the...         3  \n",
       "4  I didnt like this coffee. Instead of telling y...         2  "
      ]
     },
     "execution_count": 4,
     "metadata": {},
     "output_type": "execute_result"
    }
   ],
   "source": [
    "print(display.shape)\n",
    "display.head()"
   ]
  },
  {
   "cell_type": "code",
   "execution_count": 5,
   "metadata": {
    "colab": {},
    "colab_type": "code",
    "id": "HUsn2lg8Jkjb",
    "outputId": "76e2e98e-b728-46ba-d619-c2008134a3b7"
   },
   "outputs": [
    {
     "data": {
      "text/html": [
       "<div>\n",
       "<style>\n",
       "    .dataframe thead tr:only-child th {\n",
       "        text-align: right;\n",
       "    }\n",
       "\n",
       "    .dataframe thead th {\n",
       "        text-align: left;\n",
       "    }\n",
       "\n",
       "    .dataframe tbody tr th {\n",
       "        vertical-align: top;\n",
       "    }\n",
       "</style>\n",
       "<table border=\"1\" class=\"dataframe\">\n",
       "  <thead>\n",
       "    <tr style=\"text-align: right;\">\n",
       "      <th></th>\n",
       "      <th>UserId</th>\n",
       "      <th>ProductId</th>\n",
       "      <th>ProfileName</th>\n",
       "      <th>Time</th>\n",
       "      <th>Score</th>\n",
       "      <th>Text</th>\n",
       "      <th>COUNT(*)</th>\n",
       "    </tr>\n",
       "  </thead>\n",
       "  <tbody>\n",
       "    <tr>\n",
       "      <th>80638</th>\n",
       "      <td>AZY10LLTJ71NX</td>\n",
       "      <td>B006P7E5ZI</td>\n",
       "      <td>undertheshrine \"undertheshrine\"</td>\n",
       "      <td>1334707200</td>\n",
       "      <td>5</td>\n",
       "      <td>I was recommended to try green tea extract to ...</td>\n",
       "      <td>5</td>\n",
       "    </tr>\n",
       "  </tbody>\n",
       "</table>\n",
       "</div>"
      ],
      "text/plain": [
       "              UserId   ProductId                      ProfileName        Time  \\\n",
       "80638  AZY10LLTJ71NX  B006P7E5ZI  undertheshrine \"undertheshrine\"  1334707200   \n",
       "\n",
       "       Score                                               Text  COUNT(*)  \n",
       "80638      5  I was recommended to try green tea extract to ...         5  "
      ]
     },
     "execution_count": 5,
     "metadata": {},
     "output_type": "execute_result"
    }
   ],
   "source": [
    "display[display['UserId']=='AZY10LLTJ71NX']"
   ]
  },
  {
   "cell_type": "code",
   "execution_count": 6,
   "metadata": {
    "colab": {},
    "colab_type": "code",
    "id": "CyPhzHZKJkjf",
    "outputId": "28b60f13-e2e6-4960-e5ba-3467e16dbd03"
   },
   "outputs": [
    {
     "data": {
      "text/plain": [
       "393063"
      ]
     },
     "execution_count": 6,
     "metadata": {},
     "output_type": "execute_result"
    }
   ],
   "source": [
    "display['COUNT(*)'].sum()"
   ]
  },
  {
   "cell_type": "markdown",
   "metadata": {
    "colab_type": "text",
    "id": "y22fy_WtJkji"
   },
   "source": [
    "#  [2] Exploratory Data Analysis"
   ]
  },
  {
   "cell_type": "markdown",
   "metadata": {
    "colab_type": "text",
    "id": "ZqpW3tWPJkjl"
   },
   "source": [
    "## [2.1] Data Cleaning: Deduplication\n",
    "\n",
    "It is observed (as shown in the table below) that the reviews data had many duplicate entries. Hence it was necessary to remove duplicates in order to get unbiased results for the analysis of the data.  Following is an example:"
   ]
  },
  {
   "cell_type": "code",
   "execution_count": 7,
   "metadata": {
    "colab": {},
    "colab_type": "code",
    "id": "fmlu_oooJkjl",
    "outputId": "9ae82f65-ed65-425a-ad4d-b96091e37940",
    "scrolled": false
   },
   "outputs": [
    {
     "data": {
      "text/html": [
       "<div>\n",
       "<style>\n",
       "    .dataframe thead tr:only-child th {\n",
       "        text-align: right;\n",
       "    }\n",
       "\n",
       "    .dataframe thead th {\n",
       "        text-align: left;\n",
       "    }\n",
       "\n",
       "    .dataframe tbody tr th {\n",
       "        vertical-align: top;\n",
       "    }\n",
       "</style>\n",
       "<table border=\"1\" class=\"dataframe\">\n",
       "  <thead>\n",
       "    <tr style=\"text-align: right;\">\n",
       "      <th></th>\n",
       "      <th>Id</th>\n",
       "      <th>ProductId</th>\n",
       "      <th>UserId</th>\n",
       "      <th>ProfileName</th>\n",
       "      <th>HelpfulnessNumerator</th>\n",
       "      <th>HelpfulnessDenominator</th>\n",
       "      <th>Score</th>\n",
       "      <th>Time</th>\n",
       "      <th>Summary</th>\n",
       "      <th>Text</th>\n",
       "    </tr>\n",
       "  </thead>\n",
       "  <tbody>\n",
       "    <tr>\n",
       "      <th>0</th>\n",
       "      <td>78445</td>\n",
       "      <td>B000HDL1RQ</td>\n",
       "      <td>AR5J8UI46CURR</td>\n",
       "      <td>Geetha Krishnan</td>\n",
       "      <td>2</td>\n",
       "      <td>2</td>\n",
       "      <td>5</td>\n",
       "      <td>1199577600</td>\n",
       "      <td>LOACKER QUADRATINI VANILLA WAFERS</td>\n",
       "      <td>DELICIOUS WAFERS. I FIND THAT EUROPEAN WAFERS ...</td>\n",
       "    </tr>\n",
       "    <tr>\n",
       "      <th>1</th>\n",
       "      <td>138317</td>\n",
       "      <td>B000HDOPYC</td>\n",
       "      <td>AR5J8UI46CURR</td>\n",
       "      <td>Geetha Krishnan</td>\n",
       "      <td>2</td>\n",
       "      <td>2</td>\n",
       "      <td>5</td>\n",
       "      <td>1199577600</td>\n",
       "      <td>LOACKER QUADRATINI VANILLA WAFERS</td>\n",
       "      <td>DELICIOUS WAFERS. I FIND THAT EUROPEAN WAFERS ...</td>\n",
       "    </tr>\n",
       "    <tr>\n",
       "      <th>2</th>\n",
       "      <td>138277</td>\n",
       "      <td>B000HDOPYM</td>\n",
       "      <td>AR5J8UI46CURR</td>\n",
       "      <td>Geetha Krishnan</td>\n",
       "      <td>2</td>\n",
       "      <td>2</td>\n",
       "      <td>5</td>\n",
       "      <td>1199577600</td>\n",
       "      <td>LOACKER QUADRATINI VANILLA WAFERS</td>\n",
       "      <td>DELICIOUS WAFERS. I FIND THAT EUROPEAN WAFERS ...</td>\n",
       "    </tr>\n",
       "    <tr>\n",
       "      <th>3</th>\n",
       "      <td>73791</td>\n",
       "      <td>B000HDOPZG</td>\n",
       "      <td>AR5J8UI46CURR</td>\n",
       "      <td>Geetha Krishnan</td>\n",
       "      <td>2</td>\n",
       "      <td>2</td>\n",
       "      <td>5</td>\n",
       "      <td>1199577600</td>\n",
       "      <td>LOACKER QUADRATINI VANILLA WAFERS</td>\n",
       "      <td>DELICIOUS WAFERS. I FIND THAT EUROPEAN WAFERS ...</td>\n",
       "    </tr>\n",
       "    <tr>\n",
       "      <th>4</th>\n",
       "      <td>155049</td>\n",
       "      <td>B000PAQ75C</td>\n",
       "      <td>AR5J8UI46CURR</td>\n",
       "      <td>Geetha Krishnan</td>\n",
       "      <td>2</td>\n",
       "      <td>2</td>\n",
       "      <td>5</td>\n",
       "      <td>1199577600</td>\n",
       "      <td>LOACKER QUADRATINI VANILLA WAFERS</td>\n",
       "      <td>DELICIOUS WAFERS. I FIND THAT EUROPEAN WAFERS ...</td>\n",
       "    </tr>\n",
       "  </tbody>\n",
       "</table>\n",
       "</div>"
      ],
      "text/plain": [
       "       Id   ProductId         UserId      ProfileName  HelpfulnessNumerator  \\\n",
       "0   78445  B000HDL1RQ  AR5J8UI46CURR  Geetha Krishnan                     2   \n",
       "1  138317  B000HDOPYC  AR5J8UI46CURR  Geetha Krishnan                     2   \n",
       "2  138277  B000HDOPYM  AR5J8UI46CURR  Geetha Krishnan                     2   \n",
       "3   73791  B000HDOPZG  AR5J8UI46CURR  Geetha Krishnan                     2   \n",
       "4  155049  B000PAQ75C  AR5J8UI46CURR  Geetha Krishnan                     2   \n",
       "\n",
       "   HelpfulnessDenominator  Score        Time  \\\n",
       "0                       2      5  1199577600   \n",
       "1                       2      5  1199577600   \n",
       "2                       2      5  1199577600   \n",
       "3                       2      5  1199577600   \n",
       "4                       2      5  1199577600   \n",
       "\n",
       "                             Summary  \\\n",
       "0  LOACKER QUADRATINI VANILLA WAFERS   \n",
       "1  LOACKER QUADRATINI VANILLA WAFERS   \n",
       "2  LOACKER QUADRATINI VANILLA WAFERS   \n",
       "3  LOACKER QUADRATINI VANILLA WAFERS   \n",
       "4  LOACKER QUADRATINI VANILLA WAFERS   \n",
       "\n",
       "                                                Text  \n",
       "0  DELICIOUS WAFERS. I FIND THAT EUROPEAN WAFERS ...  \n",
       "1  DELICIOUS WAFERS. I FIND THAT EUROPEAN WAFERS ...  \n",
       "2  DELICIOUS WAFERS. I FIND THAT EUROPEAN WAFERS ...  \n",
       "3  DELICIOUS WAFERS. I FIND THAT EUROPEAN WAFERS ...  \n",
       "4  DELICIOUS WAFERS. I FIND THAT EUROPEAN WAFERS ...  "
      ]
     },
     "execution_count": 7,
     "metadata": {},
     "output_type": "execute_result"
    }
   ],
   "source": [
    "display= pd.read_sql_query(\"\"\"\n",
    "SELECT *\n",
    "FROM Reviews\n",
    "WHERE Score != 3 AND UserId=\"AR5J8UI46CURR\"\n",
    "ORDER BY ProductID\n",
    "\"\"\", con)\n",
    "display.head()"
   ]
  },
  {
   "cell_type": "markdown",
   "metadata": {
    "colab_type": "text",
    "id": "pvogJHEyJkjq"
   },
   "source": [
    "As it can be seen above that same user has multiple reviews with same values for HelpfulnessNumerator, HelpfulnessDenominator, Score, Time, Summary and Text and on doing analysis it was found that <br>\n",
    "<br> \n",
    "ProductId=B000HDOPZG was Loacker Quadratini Vanilla Wafer Cookies, 8.82-Ounce Packages (Pack of 8)<br>\n",
    "<br> \n",
    "ProductId=B000HDL1RQ was Loacker Quadratini Lemon Wafer Cookies, 8.82-Ounce Packages (Pack of 8) and so on<br>\n",
    "\n",
    "It was inferred after analysis that reviews with same parameters other than ProductId belonged to the same product just having different flavour or quantity. Hence in order to reduce redundancy it was decided to eliminate the rows having same parameters.<br>\n",
    "\n",
    "The method used for the same was that we first sort the data according to ProductId and then just keep the first similar product review and delelte the others. for eg. in the above just the review for ProductId=B000HDL1RQ remains. This method ensures that there is only one representative for each product and deduplication without sorting would lead to possibility of different representatives still existing for the same product."
   ]
  },
  {
   "cell_type": "code",
   "execution_count": 8,
   "metadata": {
    "colab": {},
    "colab_type": "code",
    "collapsed": true,
    "id": "LAWOrfBaJkjr"
   },
   "outputs": [],
   "source": [
    "#Sorting data according to ProductId in ascending order\n",
    "sorted_data=filtered_data.sort_values('ProductId', axis=0, ascending=True, inplace=False, kind='quicksort', na_position='last')"
   ]
  },
  {
   "cell_type": "code",
   "execution_count": 9,
   "metadata": {
    "colab": {},
    "colab_type": "code",
    "id": "dfaQob28Jkju",
    "outputId": "21104e4f-cd18-4353-a54a-5b4638fc552b"
   },
   "outputs": [
    {
     "data": {
      "text/plain": [
       "(126359, 10)"
      ]
     },
     "execution_count": 9,
     "metadata": {},
     "output_type": "execute_result"
    }
   ],
   "source": [
    "#Deduplication of entries\n",
    "final=sorted_data.drop_duplicates(subset={\"UserId\",\"ProfileName\",\"Time\",\"Text\"}, keep='first', inplace=False)\n",
    "final.shape"
   ]
  },
  {
   "cell_type": "code",
   "execution_count": 10,
   "metadata": {
    "colab": {},
    "colab_type": "code",
    "id": "9QVxT6oxJkjx",
    "outputId": "f292b9fe-6065-4979-830d-c79bc6785a3d"
   },
   "outputs": [
    {
     "data": {
      "text/plain": [
       "84.23933333333333"
      ]
     },
     "execution_count": 10,
     "metadata": {},
     "output_type": "execute_result"
    }
   ],
   "source": [
    "#Checking to see how much % of data still remains\n",
    "(final['Id'].size*1.0)/(filtered_data['Id'].size*1.0)*100"
   ]
  },
  {
   "cell_type": "markdown",
   "metadata": {
    "colab_type": "text",
    "id": "qVaxONHLJkj1"
   },
   "source": [
    "<b>Observation:-</b> It was also seen that in two rows given below the value of HelpfulnessNumerator is greater than HelpfulnessDenominator which is not practically possible hence these two rows too are removed from calcualtions"
   ]
  },
  {
   "cell_type": "code",
   "execution_count": 11,
   "metadata": {
    "colab": {},
    "colab_type": "code",
    "id": "vLoqfOjcJkj1",
    "outputId": "db3448f8-fbda-4205-a7cc-5048e0f1fd19"
   },
   "outputs": [
    {
     "data": {
      "text/html": [
       "<div>\n",
       "<style>\n",
       "    .dataframe thead tr:only-child th {\n",
       "        text-align: right;\n",
       "    }\n",
       "\n",
       "    .dataframe thead th {\n",
       "        text-align: left;\n",
       "    }\n",
       "\n",
       "    .dataframe tbody tr th {\n",
       "        vertical-align: top;\n",
       "    }\n",
       "</style>\n",
       "<table border=\"1\" class=\"dataframe\">\n",
       "  <thead>\n",
       "    <tr style=\"text-align: right;\">\n",
       "      <th></th>\n",
       "      <th>Id</th>\n",
       "      <th>ProductId</th>\n",
       "      <th>UserId</th>\n",
       "      <th>ProfileName</th>\n",
       "      <th>HelpfulnessNumerator</th>\n",
       "      <th>HelpfulnessDenominator</th>\n",
       "      <th>Score</th>\n",
       "      <th>Time</th>\n",
       "      <th>Summary</th>\n",
       "      <th>Text</th>\n",
       "    </tr>\n",
       "  </thead>\n",
       "  <tbody>\n",
       "    <tr>\n",
       "      <th>0</th>\n",
       "      <td>64422</td>\n",
       "      <td>B000MIDROQ</td>\n",
       "      <td>A161DK06JJMCYF</td>\n",
       "      <td>J. E. Stephens \"Jeanne\"</td>\n",
       "      <td>3</td>\n",
       "      <td>1</td>\n",
       "      <td>5</td>\n",
       "      <td>1224892800</td>\n",
       "      <td>Bought This for My Son at College</td>\n",
       "      <td>My son loves spaghetti so I didn't hesitate or...</td>\n",
       "    </tr>\n",
       "    <tr>\n",
       "      <th>1</th>\n",
       "      <td>44737</td>\n",
       "      <td>B001EQ55RW</td>\n",
       "      <td>A2V0I904FH7ABY</td>\n",
       "      <td>Ram</td>\n",
       "      <td>3</td>\n",
       "      <td>2</td>\n",
       "      <td>4</td>\n",
       "      <td>1212883200</td>\n",
       "      <td>Pure cocoa taste with crunchy almonds inside</td>\n",
       "      <td>It was almost a 'love at first bite' - the per...</td>\n",
       "    </tr>\n",
       "  </tbody>\n",
       "</table>\n",
       "</div>"
      ],
      "text/plain": [
       "      Id   ProductId          UserId              ProfileName  \\\n",
       "0  64422  B000MIDROQ  A161DK06JJMCYF  J. E. Stephens \"Jeanne\"   \n",
       "1  44737  B001EQ55RW  A2V0I904FH7ABY                      Ram   \n",
       "\n",
       "   HelpfulnessNumerator  HelpfulnessDenominator  Score        Time  \\\n",
       "0                     3                       1      5  1224892800   \n",
       "1                     3                       2      4  1212883200   \n",
       "\n",
       "                                        Summary  \\\n",
       "0             Bought This for My Son at College   \n",
       "1  Pure cocoa taste with crunchy almonds inside   \n",
       "\n",
       "                                                Text  \n",
       "0  My son loves spaghetti so I didn't hesitate or...  \n",
       "1  It was almost a 'love at first bite' - the per...  "
      ]
     },
     "execution_count": 11,
     "metadata": {},
     "output_type": "execute_result"
    }
   ],
   "source": [
    "display= pd.read_sql_query(\"\"\"\n",
    "SELECT *\n",
    "FROM Reviews\n",
    "WHERE Score != 3 AND Id=44737 OR Id=64422\n",
    "ORDER BY ProductID\n",
    "\"\"\", con)\n",
    "\n",
    "display.head()"
   ]
  },
  {
   "cell_type": "code",
   "execution_count": 12,
   "metadata": {
    "colab": {},
    "colab_type": "code",
    "collapsed": true,
    "id": "f_185ozFJkj9"
   },
   "outputs": [],
   "source": [
    "final=final[final.HelpfulnessNumerator<=final.HelpfulnessDenominator]"
   ]
  },
  {
   "cell_type": "code",
   "execution_count": 13,
   "metadata": {
    "colab": {},
    "colab_type": "code",
    "id": "CofRySJyJkkC",
    "outputId": "a06c52f6-66a9-429b-8a5e-e20259f0bb21"
   },
   "outputs": [
    {
     "name": "stdout",
     "output_type": "stream",
     "text": [
      "(126357, 10)\n"
     ]
    },
    {
     "data": {
      "text/plain": [
       "1    106326\n",
       "0     20031\n",
       "Name: Score, dtype: int64"
      ]
     },
     "execution_count": 13,
     "metadata": {},
     "output_type": "execute_result"
    }
   ],
   "source": [
    "#Before starting the next phase of preprocessing lets see the number of entries left\n",
    "print(final.shape)\n",
    "\n",
    "#How many positive and negative reviews are present in our dataset?\n",
    "final['Score'].value_counts()"
   ]
  },
  {
   "cell_type": "markdown",
   "metadata": {
    "colab_type": "text",
    "id": "-fEWeywxJkkI"
   },
   "source": [
    "#  [3] Preprocessing"
   ]
  },
  {
   "cell_type": "markdown",
   "metadata": {
    "colab_type": "text",
    "id": "tzpbt9aOJkkJ"
   },
   "source": [
    "## [3.1].  Preprocessing Review Text\n",
    "\n",
    "Now that we have finished deduplication our data requires some preprocessing before we go on further with analysis and making the prediction model.\n",
    "\n",
    "Hence in the Preprocessing phase we do the following in the order below:-\n",
    "\n",
    "1. Begin by removing the html tags\n",
    "2. Remove any punctuations or limited set of special characters like , or . or # etc.\n",
    "3. Check if the word is made up of english letters and is not alpha-numeric\n",
    "4. Check to see if the length of the word is greater than 2 (as it was researched that there is no adjective in 2-letters)\n",
    "5. Convert the word to lowercase\n",
    "6. Remove Stopwords\n",
    "7. Finally Snowball Stemming the word (it was obsereved to be better than Porter Stemming)<br>\n",
    "\n",
    "After which we collect the words used to describe positive and negative reviews"
   ]
  },
  {
   "cell_type": "code",
   "execution_count": 14,
   "metadata": {
    "colab": {},
    "colab_type": "code",
    "id": "YqxBeLk8JkkL",
    "outputId": "1819632d-0129-4a13-d7ff-4e7bbf129dff"
   },
   "outputs": [
    {
     "name": "stdout",
     "output_type": "stream",
     "text": [
      "I grew up reading these Sendak books, and watching the Really Rosie movie that incorporates them, and love them. My son loves them too. I do however, miss the hard cover version. The paperbacks seem kind of flimsy and it takes two hands to keep the pages open.\n",
      "==================================================\n",
      "Its about time Spanish products started getting their due.. The most famous (rightly so) Spanish cheese, Manchego, is world class, and is really tough to beat.  Try some with some fig cake, or some quince paste, or drizzled with olive oil garnished with rosemary..  Serve with a fino sherry, manzanilla, or any number of red wines (depending on age of cheese), and you are guaranteed a winning combination..  Sliced, melted over a great burger, with a roasted red pepper and a hearty glass of earthy zinfandel = heavenly joy..  Cube and marinate in Spanish olive oil is also a treat... I have had no problems with iGourmet so far, so I can't comment on their customer service - all of my orders have been shipped quickly (1-3 business days), without issue.  Their Manchego is much better than I can get at the local gourmet grocery stores.  They have great specials and offers, so I have to count myself as a big iGourmet fan.  Regardless, Manchego cheese is so good, you'll undoubtedly be back for more.. and more..  and more.\n",
      "==================================================\n",
      "Anyone can do hot, but this sauce also tastes great! Most hot sauces taste like vinegar, but this one tastes like fresh peppers. It's got great kick, so a little goes a long way. My grocery stopped selling it, so I've had to venture online to find it.\n",
      "==================================================\n",
      "There's nothing like the scent of real lavender! Just a whiff smells so good. Besides enjoying the fragrance, I've only used a small amount a few times to make some tea but it is wonderful! Can't wait to try it in ice cubes, add a pinch on top of a dessert, throw a little into homemade laundry soap, or whatever else comes to mind. Would definitely buy more!\n",
      "==================================================\n"
     ]
    }
   ],
   "source": [
    "# printing some random reviews\n",
    "sent_0 = final['Text'].values[0]\n",
    "print(sent_0)\n",
    "print(\"=\"*50)\n",
    "\n",
    "sent_1000 = final['Text'].values[1000]\n",
    "print(sent_1000)\n",
    "print(\"=\"*50)\n",
    "\n",
    "sent_1500 = final['Text'].values[1580]\n",
    "print(sent_1500)\n",
    "print(\"=\"*50)\n",
    "\n",
    "sent_4900 = final['Text'].values[4900]\n",
    "print(sent_4900)\n",
    "print(\"=\"*50)"
   ]
  },
  {
   "cell_type": "code",
   "execution_count": 15,
   "metadata": {
    "colab": {},
    "colab_type": "code",
    "id": "lWiJ2_9gJkkP",
    "outputId": "08234806-3657-4d8f-c6d2-020dc9cda61c"
   },
   "outputs": [
    {
     "name": "stdout",
     "output_type": "stream",
     "text": [
      "Anyone can do hot, but this sauce also tastes great! Most hot sauces taste like vinegar, but this one tastes like fresh peppers. It's got great kick, so a little goes a long way. My grocery stopped selling it, so I've had to venture online to find it.\n"
     ]
    }
   ],
   "source": [
    "# remove urls from text python: https://stackoverflow.com/a/40823105/4084039\n",
    "sent_0 = re.sub(r\"http\\S+\", \"\", sent_0)\n",
    "sent_1000 = re.sub(r\"http\\S+\", \"\", sent_1000)\n",
    "sent_150 = re.sub(r\"http\\S+\", \"\", sent_1500)\n",
    "sent_4900 = re.sub(r\"http\\S+\", \"\", sent_4900)\n",
    "\n",
    "print(sent_150)"
   ]
  },
  {
   "cell_type": "code",
   "execution_count": 16,
   "metadata": {
    "colab": {},
    "colab_type": "code",
    "id": "cpLtZ-lAJkkR",
    "outputId": "7e0bf159-4db4-4ffe-d72e-6d5952d453f1"
   },
   "outputs": [
    {
     "name": "stdout",
     "output_type": "stream",
     "text": [
      "I grew up reading these Sendak books, and watching the Really Rosie movie that incorporates them, and love them. My son loves them too. I do however, miss the hard cover version. The paperbacks seem kind of flimsy and it takes two hands to keep the pages open.\n",
      "==================================================\n",
      "Its about time Spanish products started getting their due.. The most famous (rightly so) Spanish cheese, Manchego, is world class, and is really tough to beat.  Try some with some fig cake, or some quince paste, or drizzled with olive oil garnished with rosemary..  Serve with a fino sherry, manzanilla, or any number of red wines (depending on age of cheese), and you are guaranteed a winning combination..  Sliced, melted over a great burger, with a roasted red pepper and a hearty glass of earthy zinfandel = heavenly joy..  Cube and marinate in Spanish olive oil is also a treat... I have had no problems with iGourmet so far, so I can't comment on their customer service - all of my orders have been shipped quickly (1-3 business days), without issue.  Their Manchego is much better than I can get at the local gourmet grocery stores.  They have great specials and offers, so I have to count myself as a big iGourmet fan.  Regardless, Manchego cheese is so good, you'll undoubtedly be back for more.. and more..  and more.\n",
      "==================================================\n",
      "Anyone can do hot, but this sauce also tastes great! Most hot sauces taste like vinegar, but this one tastes like fresh peppers. It's got great kick, so a little goes a long way. My grocery stopped selling it, so I've had to venture online to find it.\n",
      "==================================================\n",
      "There's nothing like the scent of real lavender! Just a whiff smells so good. Besides enjoying the fragrance, I've only used a small amount a few times to make some tea but it is wonderful! Can't wait to try it in ice cubes, add a pinch on top of a dessert, throw a little into homemade laundry soap, or whatever else comes to mind. Would definitely buy more!\n"
     ]
    }
   ],
   "source": [
    "# https://stackoverflow.com/questions/16206380/python-beautifulsoup-how-to-remove-all-tags-from-an-element\n",
    "from bs4 import BeautifulSoup\n",
    "\n",
    "soup = BeautifulSoup(sent_0, 'lxml')\n",
    "text = soup.get_text()\n",
    "print(text)\n",
    "print(\"=\"*50)\n",
    "\n",
    "soup = BeautifulSoup(sent_1000, 'lxml')\n",
    "text = soup.get_text()\n",
    "print(text)\n",
    "print(\"=\"*50)\n",
    "\n",
    "soup = BeautifulSoup(sent_1500, 'lxml')\n",
    "text = soup.get_text()\n",
    "print(text)\n",
    "print(\"=\"*50)\n",
    "\n",
    "soup = BeautifulSoup(sent_4900, 'lxml')\n",
    "text = soup.get_text()\n",
    "print(text)"
   ]
  },
  {
   "cell_type": "code",
   "execution_count": 17,
   "metadata": {
    "colab": {},
    "colab_type": "code",
    "collapsed": true,
    "id": "HYBbtiCMJkkW"
   },
   "outputs": [],
   "source": [
    "# https://stackoverflow.com/a/47091490/4084039\n",
    "import re\n",
    "\n",
    "def decontracted(phrase):\n",
    "    # specific\n",
    "    phrase = re.sub(r\"won't\", \"will not\", phrase)\n",
    "    phrase = re.sub(r\"can\\'t\", \"can not\", phrase)\n",
    "\n",
    "    # general\n",
    "    phrase = re.sub(r\"n\\'t\", \" not\", phrase)\n",
    "    phrase = re.sub(r\"\\'re\", \" are\", phrase)\n",
    "    phrase = re.sub(r\"\\'s\", \" is\", phrase)\n",
    "    phrase = re.sub(r\"\\'d\", \" would\", phrase)\n",
    "    phrase = re.sub(r\"\\'ll\", \" will\", phrase)\n",
    "    phrase = re.sub(r\"\\'t\", \" not\", phrase)\n",
    "    phrase = re.sub(r\"\\'ve\", \" have\", phrase)\n",
    "    phrase = re.sub(r\"\\'m\", \" am\", phrase)\n",
    "    return phrase"
   ]
  },
  {
   "cell_type": "code",
   "execution_count": 18,
   "metadata": {
    "colab": {},
    "colab_type": "code",
    "id": "WPQSZurTJkkY",
    "outputId": "6d91fc9f-8f77-497c-95bb-96bfc9781196"
   },
   "outputs": [
    {
     "name": "stdout",
     "output_type": "stream",
     "text": [
      "Anyone can do hot, but this sauce also tastes great! Most hot sauces taste like vinegar, but this one tastes like fresh peppers. It is got great kick, so a little goes a long way. My grocery stopped selling it, so I have had to venture online to find it.\n",
      "==================================================\n"
     ]
    }
   ],
   "source": [
    "sent_1500 = decontracted(sent_1500)\n",
    "print(sent_1500)\n",
    "print(\"=\"*50)"
   ]
  },
  {
   "cell_type": "code",
   "execution_count": 19,
   "metadata": {
    "colab": {},
    "colab_type": "code",
    "id": "6bakeyaQJkkb",
    "outputId": "f7cf0096-0b7b-4ec1-84df-01e838621d62"
   },
   "outputs": [
    {
     "name": "stdout",
     "output_type": "stream",
     "text": [
      "I grew up reading these Sendak books, and watching the Really Rosie movie that incorporates them, and love them. My son loves them too. I do however, miss the hard cover version. The paperbacks seem kind of flimsy and it takes two hands to keep the pages open.\n"
     ]
    }
   ],
   "source": [
    "#remove words with numbers python: https://stackoverflow.com/a/18082370/4084039\n",
    "sent_0 = re.sub(\"\\S*\\d\\S*\", \"\", sent_0).strip()\n",
    "print(sent_0)"
   ]
  },
  {
   "cell_type": "code",
   "execution_count": 20,
   "metadata": {
    "colab": {},
    "colab_type": "code",
    "id": "dMqqVqadJkkg",
    "outputId": "e4a6bd28-9d39-4dd2-9483-0406dd3dff50"
   },
   "outputs": [
    {
     "name": "stdout",
     "output_type": "stream",
     "text": [
      "Anyone can do hot but this sauce also tastes great Most hot sauces taste like vinegar but this one tastes like fresh peppers It is got great kick so a little goes a long way My grocery stopped selling it so I have had to venture online to find it \n"
     ]
    }
   ],
   "source": [
    "#remove spacial character: https://stackoverflow.com/a/5843547/4084039\n",
    "sent_1500 = re.sub('[^A-Za-z0-9]+', ' ', sent_1500)\n",
    "print(sent_1500)"
   ]
  },
  {
   "cell_type": "code",
   "execution_count": 21,
   "metadata": {
    "colab": {},
    "colab_type": "code",
    "collapsed": true,
    "id": "bvEoXB5NJkkk"
   },
   "outputs": [],
   "source": [
    "# https://gist.github.com/sebleier/554280\n",
    "# we are removing the words from the stop words list: 'no', 'nor', 'not'\n",
    "# <br /><br /> ==> after the above steps, we are getting \"br br\"\n",
    "# we are including them into stop words list\n",
    "# instead of <br /> if we have <br/> these tags would have revmoved in the 1st step\n",
    "\n",
    "stopwords= set(['br', 'the', 'i', 'me', 'my', 'myself', 'we', 'our', 'ours', 'ourselves', 'you', \"you're\", \"you've\",\\\n",
    "            \"you'll\", \"you'd\", 'your', 'yours', 'yourself', 'yourselves', 'he', 'him', 'his', 'himself', \\\n",
    "            'she', \"she's\", 'her', 'hers', 'herself', 'it', \"it's\", 'its', 'itself', 'they', 'them', 'their',\\\n",
    "            'theirs', 'themselves', 'what', 'which', 'who', 'whom', 'this', 'that', \"that'll\", 'these', 'those', \\\n",
    "            'am', 'is', 'are', 'was', 'were', 'be', 'been', 'being', 'have', 'has', 'had', 'having', 'do', 'does', \\\n",
    "            'did', 'doing', 'a', 'an', 'the', 'and', 'but', 'if', 'or', 'because', 'as', 'until', 'while', 'of', \\\n",
    "            'at', 'by', 'for', 'with', 'about', 'against', 'between', 'into', 'through', 'during', 'before', 'after',\\\n",
    "            'above', 'below', 'to', 'from', 'up', 'down', 'in', 'out', 'on', 'off', 'over', 'under', 'again', 'further',\\\n",
    "            'then', 'once', 'here', 'there', 'when', 'where', 'why', 'how', 'all', 'any', 'both', 'each', 'few', 'more',\\\n",
    "            'most', 'other', 'some', 'such', 'only', 'own', 'same', 'so', 'than', 'too', 'very', \\\n",
    "            's', 't', 'can', 'will', 'just', 'don', \"don't\", 'should', \"should've\", 'now', 'd', 'll', 'm', 'o', 're', \\\n",
    "            've', 'y', 'ain', 'aren', \"aren't\", 'couldn', \"couldn't\", 'didn', \"didn't\", 'doesn', \"doesn't\", 'hadn',\\\n",
    "            \"hadn't\", 'hasn', \"hasn't\", 'haven', \"haven't\", 'isn', \"isn't\", 'ma', 'mightn', \"mightn't\", 'mustn',\\\n",
    "            \"mustn't\", 'needn', \"needn't\", 'shan', \"shan't\", 'shouldn', \"shouldn't\", 'wasn', \"wasn't\", 'weren', \"weren't\", \\\n",
    "            'won', \"won't\", 'wouldn', \"wouldn't\"])"
   ]
  },
  {
   "cell_type": "code",
   "execution_count": 22,
   "metadata": {
    "colab": {},
    "colab_type": "code",
    "id": "0j3jfqWCJkko",
    "outputId": "c83c59c5-fe17-4ad2-d43f-0b0947a6e6ba"
   },
   "outputs": [
    {
     "name": "stderr",
     "output_type": "stream",
     "text": [
      "100%|████████████████████████████████████████████████████████████████████████| 126357/126357 [01:53<00:00, 1116.25it/s]\n"
     ]
    }
   ],
   "source": [
    "# Combining all the above stundents \n",
    "from tqdm import tqdm\n",
    "preprocessed_reviews = []\n",
    "# tqdm is for printing the status bar\n",
    "for sentance in tqdm(final['Text'].values):\n",
    "    sentance = re.sub(r\"http\\S+\", \"\", sentance)\n",
    "    sentance = BeautifulSoup(sentance, 'lxml').get_text()\n",
    "    sentance = decontracted(sentance)\n",
    "    sentance = re.sub(\"\\S*\\d\\S*\", \"\", sentance).strip()\n",
    "    sentance = re.sub('[^A-Za-z]+', ' ', sentance)\n",
    "    # https://gist.github.com/sebleier/554280\n",
    "    sentance = ' '.join(e.lower() for e in sentance.split() if e.lower() not in stopwords)\n",
    "    preprocessed_reviews.append(sentance.strip())"
   ]
  },
  {
   "cell_type": "code",
   "execution_count": 23,
   "metadata": {
    "colab": {},
    "colab_type": "code",
    "id": "nS_7EeV7Jkkr",
    "outputId": "4d4cd05e-0730-4e52-dc30-eb97014871dd"
   },
   "outputs": [
    {
     "data": {
      "text/plain": [
       "'stop going bring baking materials cake way best cake ever long nielsen massey vanilla one ingredients used almost every type real vanilla years none better one taste fits needs perfectly eat end result agree even though cheap imitation vanilla readily available low cost per unit real vanilla also readily available one absolute best thought ounce size would much might not get used expiring plain wrong gone long expiration consumers house say thank nothing quite pleasant one church ladies guest extolling goodness pound cake made nielsen know vanilla insignificant part total product one element adds much flavor goodness'"
      ]
     },
     "execution_count": 23,
     "metadata": {},
     "output_type": "execute_result"
    }
   ],
   "source": [
    "preprocessed_reviews[1890]"
   ]
  },
  {
   "cell_type": "markdown",
   "metadata": {
    "colab_type": "text",
    "id": "zak5yP5zJkkt"
   },
   "source": [
    "<h2><font color='red'>[3.2] Preprocessing Review Summary</font></h2>"
   ]
  },
  {
   "cell_type": "code",
   "execution_count": 24,
   "metadata": {
    "colab": {},
    "colab_type": "code",
    "id": "wZ3Epk1wJkku"
   },
   "outputs": [
    {
     "name": "stdout",
     "output_type": "stream",
     "text": [
      "Love the book, miss the hard cover version\n",
      "************************************************************\n",
      "Very happy\n",
      "************************************************************\n",
      "The absolute best treats for small dogs!\n",
      "************************************************************\n",
      "I've liked every kind that I've tried\n",
      "************************************************************\n",
      "Great deal - swim fast!\n",
      "************************************************************\n"
     ]
    }
   ],
   "source": [
    "## Similarly you can do preprocessing for review summary also.\n",
    "#here i will be preprocessing the summary data\n",
    "#let us print some random summary rows here\n",
    "sum1=final['Summary'].values[0]\n",
    "print(sum1)\n",
    "print(\"*\"*60)\n",
    "\n",
    "sum2=final['Summary'].values[100]\n",
    "print(sum2)\n",
    "print(\"*\"*60)\n",
    "\n",
    "sum3=final['Summary'].values[550]\n",
    "print(sum3)\n",
    "print(\"*\"*60)\n",
    "\n",
    "sum4=final['Summary'].values[11550]\n",
    "print(sum4)\n",
    "print(\"*\"*60)\n",
    "\n",
    "sum5=final['Summary'].values[9170]\n",
    "print(sum5)\n",
    "print(\"*\"*60)\n",
    "#below I have successfully printed some of the summary text"
   ]
  },
  {
   "cell_type": "code",
   "execution_count": 25,
   "metadata": {},
   "outputs": [
    {
     "data": {
      "text/plain": [
       "138688           Love the book, miss the hard cover version\n",
       "138699                                    good for children\n",
       "138698                                             Darling!\n",
       "138696                               Chicken soup with Rice\n",
       "138695                                            A classic\n",
       "138686                               Chicken Soup with Rice\n",
       "138676    Read it once. Read it twice. Reading Chicken S...\n",
       "138677                                      Family favorite\n",
       "138678              You'll use it once, you'll use it twice\n",
       "138679    The story is great, the softcover book is disa...\n",
       "Name: Summary, dtype: object"
      ]
     },
     "execution_count": 25,
     "metadata": {},
     "output_type": "execute_result"
    }
   ],
   "source": [
    "final.Summary.head(10)"
   ]
  },
  {
   "cell_type": "code",
   "execution_count": 26,
   "metadata": {},
   "outputs": [
    {
     "name": "stdout",
     "output_type": "stream",
     "text": [
      "Great deal  swim fast\n"
     ]
    }
   ],
   "source": [
    "#so let's remove those punctuation marks first\n",
    "#https://stackoverflow.com/questions/265960/best-way-to-strip-punctuation-from-a-string-in-python\n",
    "#sum1=re.sub(r\"?\",\"\",sum1)\n",
    "\n",
    "import string\n",
    "#sum1.translate(None,string.punctuation)\n",
    "#https://stackoverflow.com/questions/23175809/str-translate-gives-typeerror-translate-takes-one-argument-2-given-worked-i\n",
    "sum5 = sum5.translate(str.maketrans('','',string.punctuation))\n",
    "print(sum5)"
   ]
  },
  {
   "cell_type": "code",
   "execution_count": 27,
   "metadata": {},
   "outputs": [
    {
     "name": "stdout",
     "output_type": "stream",
     "text": [
      "Very happy\n"
     ]
    }
   ],
   "source": [
    "#there is no need to parse the summary section using beautifulsoup because there are no html tags in summary section\n",
    "sum2= sum2.translate(str.maketrans('','',string.punctuation))\n",
    "print(sum2)\n",
    "#so the above punctuation remover seems to be working fine"
   ]
  },
  {
   "cell_type": "code",
   "execution_count": 28,
   "metadata": {},
   "outputs": [
    {
     "name": "stdout",
     "output_type": "stream",
     "text": [
      "['Great looking bonsai but had a few wire marks!'\n",
      " 'pot was cracked when I received it!!' 'Awsome'\n",
      " 'I understand advertising, but this is not quite up to par.'\n",
      " 'Very pleased with Chinese Elm Bonsai - Looks beautiful !'\n",
      " 'Got a lot of haters of out little tree...' 'A good thing it was a gift'\n",
      " 'The pot was broken and the soil was all over the box' 'very good'\n",
      " '6 years later...' 'Wrong tree and pot and grown improperly'\n",
      " 'great product - even greater vendor' 'worst amazon experience ever!'\n",
      " 'Not sure about this one!' 'ugly!!'\n",
      " 'horrific looked like they had just found a twig and loped off the top!'\n",
      " 'Healthy tree and packaged well'\n",
      " \"Nice looking tree but it didn't live long\"\n",
      " 'Died, in spite of best efforts' 'Made a great gift!!' 'Really?'\n",
      " 'misleading, inaccurate, poor choice for sympathy gift'\n",
      " 'Great Customer Service!' 'A Little Taste of Heaven' 'BONSAI OBSESSION'\n",
      " 'Beautiful' 'Perfect' 'Gift of bonsai tree'\n",
      " \"Very Large Bonsai! It's Beautiful.\"\n",
      " 'Excellent Starter Tree at Any Price'\n",
      " 'Prepare to be pleasantly surprised!' 'Mine was dead.' 'Disappointing'\n",
      " 'Redwood...or kindling???' 'Dawn Redwood'\n",
      " 'Fabulous, even better than the example picture' 'Stunning' 'Nice Gift'\n",
      " 'maybe too early' 'Great Little Tree' 'Great customer Service'\n",
      " 'Nice tree.' 'A Lovely Bonsai Forest'\n",
      " 'Far Exceeds the description and photo' 'Bonsai at its best'\n",
      " 'Great tree!' 'Not Exactly what I Expected' 'Very disappointed.'\n",
      " 'Very good' 'Great Product' 'These are nuts!']\n"
     ]
    }
   ],
   "source": [
    "#let's check again if there are any summary where they have used short words\n",
    "sum_rev=final['Summary'].values[1179:1230]\n",
    "print(sum_rev)\n",
    "#unfortunately we cannot search randomly and find the summary that has a short word, so let's take a subset randomly and we can see \n",
    "#that most of the summary does not have short words and filter for them are already covered in the review section"
   ]
  },
  {
   "cell_type": "code",
   "execution_count": 29,
   "metadata": {
    "collapsed": true
   },
   "outputs": [],
   "source": [
    "# https://stackoverflow.com/a/47091490/4084039\n",
    "#with minor modification we can just utilize the same function that was used for the review phrase\n",
    "\n",
    "import re\n",
    "\n",
    "def decontracted(phrase):\n",
    "    # specific\n",
    "    phrase = re.sub(r\"won't\", \"will not\", phrase)\n",
    "    phrase = re.sub(r\"can\\'t\", \"can not\", phrase)\n",
    "    phrase = re.sub(r\"Don't\", \"do not\", phrase)\n",
    "\n",
    "    # general\n",
    "    phrase = re.sub(r\"n\\'t\", \" not\", phrase)\n",
    "    phrase = re.sub(r\"\\'re\", \" are\", phrase)\n",
    "    phrase = re.sub(r\"\\'s\", \" is\", phrase)\n",
    "    phrase = re.sub(r\"\\'d\", \" would\", phrase)\n",
    "    phrase = re.sub(r\"\\'ll\", \" will\", phrase)\n",
    "    phrase = re.sub(r\"\\'t\", \" not\", phrase)\n",
    "    phrase = re.sub(r\"\\'ve\", \" have\", phrase)\n",
    "    phrase = re.sub(r\"\\'m\", \" am\", phrase)\n",
    "    phrase = re.sub(r\"\\'em\", \" them\", phrase)\n",
    "    return phrase"
   ]
  },
  {
   "cell_type": "code",
   "execution_count": 30,
   "metadata": {},
   "outputs": [
    {
     "name": "stdout",
     "output_type": "stream",
     "text": [
      "Great herbal tea\n"
     ]
    }
   ],
   "source": [
    "#check a random summary\n",
    "new_sum=decontracted(final['Summary'].values[11000])\n",
    "print(new_sum)"
   ]
  },
  {
   "cell_type": "markdown",
   "metadata": {
    "colab_type": "text",
    "id": "ChHwtw1iJkky"
   },
   "source": [
    "# [4] Featurization"
   ]
  },
  {
   "cell_type": "markdown",
   "metadata": {
    "colab_type": "text",
    "id": "qyWESNvzJkky"
   },
   "source": [
    "## [4.1] BAG OF WORDS"
   ]
  },
  {
   "cell_type": "code",
   "execution_count": 31,
   "metadata": {
    "colab": {},
    "colab_type": "code",
    "id": "zS0niozAJkkz",
    "outputId": "e2a25e5d-2e1a-497a-f094-a7e249201001"
   },
   "outputs": [
    {
     "name": "stdout",
     "output_type": "stream",
     "text": [
      "some feature names  ['aa', 'aaa', 'aaaa', 'aaaaa', 'aaaaaaaaaaaa', 'aaaaaaaaaaaaaaa', 'aaaaaaahhhhhh', 'aaaaaaarrrrrggghhh', 'aaaaaawwwwwwwwww', 'aaaaah']\n",
      "==================================================\n",
      "the type of count vectorizer  <class 'scipy.sparse.csr.csr_matrix'>\n",
      "the shape of out text BOW vectorizer  (126357, 66460)\n",
      "the number of unique words  66460\n"
     ]
    }
   ],
   "source": [
    "#BoW\n",
    "count_vect = CountVectorizer() #in scikit-learn\n",
    "count_vect.fit(preprocessed_reviews)\n",
    "print(\"some feature names \", count_vect.get_feature_names()[:10])\n",
    "print('='*50)\n",
    "\n",
    "final_counts = count_vect.transform(preprocessed_reviews)\n",
    "print(\"the type of count vectorizer \",type(final_counts))\n",
    "print(\"the shape of out text BOW vectorizer \",final_counts.get_shape())\n",
    "print(\"the number of unique words \", final_counts.get_shape()[1])"
   ]
  },
  {
   "cell_type": "markdown",
   "metadata": {
    "colab_type": "text",
    "id": "LChtHtLjJkk1"
   },
   "source": [
    "## [4.2] Bi-Grams and n-Grams."
   ]
  },
  {
   "cell_type": "code",
   "execution_count": 32,
   "metadata": {
    "colab": {},
    "colab_type": "code",
    "id": "Xgw2pSsoJkk3",
    "outputId": "bfcb230d-1f75-413a-e30d-c2aae84cd5c0"
   },
   "outputs": [
    {
     "name": "stdout",
     "output_type": "stream",
     "text": [
      "the type of count vectorizer  <class 'scipy.sparse.csr.csr_matrix'>\n",
      "the shape of out text BOW vectorizer  (126357, 5000)\n",
      "the number of unique words including both unigrams and bigrams  5000\n"
     ]
    }
   ],
   "source": [
    "#bi-gram, tri-gram and n-gram\n",
    "\n",
    "#removing stop words like \"not\" should be avoided before building n-grams\n",
    "# count_vect = CountVectorizer(ngram_range=(1,2))\n",
    "# please do read the CountVectorizer documentation http://scikit-learn.org/stable/modules/generated/sklearn.feature_extraction.text.CountVectorizer.html\n",
    "\n",
    "# you can choose these numebrs min_df=10, max_features=5000, of your choice\n",
    "count_vect = CountVectorizer(ngram_range=(1,2), min_df=10, max_features=5000)\n",
    "final_bigram_counts = count_vect.fit_transform(preprocessed_reviews)\n",
    "print(\"the type of count vectorizer \",type(final_bigram_counts))\n",
    "print(\"the shape of out text BOW vectorizer \",final_bigram_counts.get_shape())\n",
    "print(\"the number of unique words including both unigrams and bigrams \", final_bigram_counts.get_shape()[1])"
   ]
  },
  {
   "cell_type": "markdown",
   "metadata": {
    "colab_type": "text",
    "id": "1fvAmu91Jkk6"
   },
   "source": [
    "## [4.3] TF-IDF"
   ]
  },
  {
   "cell_type": "code",
   "execution_count": 33,
   "metadata": {
    "colab": {},
    "colab_type": "code",
    "id": "ag5-WCR8Jkk7",
    "outputId": "94a8ddc3-4bb7-4c49-d4e7-ed98560633b6"
   },
   "outputs": [
    {
     "name": "stdout",
     "output_type": "stream",
     "text": [
      "some sample features(unique words in the corpus) ['aa', 'aafco', 'aback', 'abandon', 'abandoned', 'abc', 'abdominal', 'abdominal pain', 'abide', 'abilities']\n",
      "==================================================\n",
      "the type of count vectorizer  <class 'scipy.sparse.csr.csr_matrix'>\n",
      "the shape of out text TFIDF vectorizer  (126357, 74310)\n",
      "the number of unique words including both unigrams and bigrams  74310\n"
     ]
    }
   ],
   "source": [
    "tf_idf_vect = TfidfVectorizer(ngram_range=(1,2), min_df=10)\n",
    "tf_idf_vect.fit(preprocessed_reviews)\n",
    "print(\"some sample features(unique words in the corpus)\",tf_idf_vect.get_feature_names()[0:10])\n",
    "print('='*50)\n",
    "\n",
    "final_tf_idf = tf_idf_vect.transform(preprocessed_reviews)\n",
    "print(\"the type of count vectorizer \",type(final_tf_idf))\n",
    "print(\"the shape of out text TFIDF vectorizer \",final_tf_idf.get_shape())\n",
    "print(\"the number of unique words including both unigrams and bigrams \", final_tf_idf.get_shape()[1])"
   ]
  },
  {
   "cell_type": "markdown",
   "metadata": {
    "colab_type": "text",
    "id": "_jVNRd5hJkk-"
   },
   "source": [
    "## [4.4] Word2Vec"
   ]
  },
  {
   "cell_type": "code",
   "execution_count": 34,
   "metadata": {
    "colab": {},
    "colab_type": "code",
    "collapsed": true,
    "id": "8jGeY1r5Jkk_"
   },
   "outputs": [],
   "source": [
    "# Train your own Word2Vec model using your own text corpus\n",
    "i=0\n",
    "list_of_sentance=[]\n",
    "for sentance in preprocessed_reviews:\n",
    "    list_of_sentance.append(sentance.split())"
   ]
  },
  {
   "cell_type": "code",
   "execution_count": 35,
   "metadata": {
    "colab": {},
    "colab_type": "code",
    "id": "2X9M3ybMJklB",
    "outputId": "42dc6662-8d17-41ce-be7c-12e2db687f30",
    "scrolled": true
   },
   "outputs": [
    {
     "name": "stdout",
     "output_type": "stream",
     "text": [
      "[('fantastic', 0.8458716869354248), ('awesome', 0.8397884368896484), ('good', 0.837662935256958), ('terrific', 0.8192715644836426), ('excellent', 0.819176435470581), ('wonderful', 0.774000883102417), ('perfect', 0.7584977746009827), ('fabulous', 0.7241874933242798), ('nice', 0.7071027159690857), ('amazing', 0.6864328980445862)]\n",
      "==================================================\n",
      "[('greatest', 0.8215168118476868), ('best', 0.7230428457260132), ('tastiest', 0.7158358097076416), ('nastiest', 0.6943908333778381), ('smoothest', 0.6596178412437439), ('terrible', 0.6498016119003296), ('disgusting', 0.6487202644348145), ('horrible', 0.6340863108634949), ('coolest', 0.6269861459732056), ('closest', 0.6163842082023621)]\n"
     ]
    }
   ],
   "source": [
    "# Using Google News Word2Vectors\n",
    "\n",
    "# in this project we are using a pretrained model by google\n",
    "# its 3.3G file, once you load this into your memory \n",
    "# it occupies ~9Gb, so please do this step only if you have >12G of ram\n",
    "# we will provide a pickle file which contains a dict , \n",
    "# and it contains all our courpus words as keys and  model[word] as values\n",
    "# To use this code-snippet, download \"GoogleNews-vectors-negative300.bin\" \n",
    "# from https://drive.google.com/file/d/0B7XkCwpI5KDYNlNUTTlSS21pQmM/edit\n",
    "# it's 1.9GB in size.\n",
    "\n",
    "\n",
    "# http://kavita-ganesan.com/gensim-word2vec-tutorial-starter-code/#.W17SRFAzZPY\n",
    "# you can comment this whole cell\n",
    "# or change these varible according to your need\n",
    "\n",
    "is_your_ram_gt_16g=False\n",
    "want_to_use_google_w2v = False\n",
    "want_to_train_w2v = True\n",
    "\n",
    "if want_to_train_w2v:\n",
    "    # min_count = 5 considers only words that occured atleast 5 times\n",
    "    w2v_model=Word2Vec(list_of_sentance,min_count=5,size=50, workers=4)\n",
    "    print(w2v_model.wv.most_similar('great'))\n",
    "    print('='*50)\n",
    "    print(w2v_model.wv.most_similar('worst'))\n",
    "    \n",
    "elif want_to_use_google_w2v and is_your_ram_gt_16g:\n",
    "    if os.path.isfile('GoogleNews-vectors-negative300.bin'):\n",
    "        w2v_model=KeyedVectors.load_word2vec_format('GoogleNews-vectors-negative300.bin', binary=True)\n",
    "        print(w2v_model.wv.most_similar('great'))\n",
    "        print(w2v_model.wv.most_similar('worst'))\n",
    "    else:\n",
    "        print(\"you don't have gogole's word2vec file, keep want_to_train_w2v = True, to train your own w2v \")"
   ]
  },
  {
   "cell_type": "code",
   "execution_count": 36,
   "metadata": {
    "colab": {},
    "colab_type": "code",
    "id": "jIFbq6sDJklG",
    "outputId": "56320a9c-85c4-4f09-c139-0a64bfdc6ab2"
   },
   "outputs": [
    {
     "name": "stdout",
     "output_type": "stream",
     "text": [
      "number of words that occured minimum 5 times  20660\n",
      "sample words  ['grew', 'reading', 'sendak', 'books', 'watching', 'really', 'rosie', 'movie', 'incorporates', 'love', 'son', 'loves', 'however', 'miss', 'hard', 'cover', 'version', 'seem', 'kind', 'flimsy', 'takes', 'two', 'hands', 'keep', 'pages', 'open', 'classic', 'children', 'book', 'not', 'go', 'wrong', 'read', 'kid', 'ordered', 'later', 'beat', 'author', 'wrote', 'wild', 'things', 'carol', 'king', 'great', 'song', 'matches', 'lyrics', 'illustrations', 'fabulous', 'wish']\n"
     ]
    }
   ],
   "source": [
    "w2v_words = list(w2v_model.wv.vocab)\n",
    "print(\"number of words that occured minimum 5 times \",len(w2v_words))\n",
    "print(\"sample words \", w2v_words[0:50])"
   ]
  },
  {
   "cell_type": "markdown",
   "metadata": {
    "colab_type": "text",
    "id": "bJ1C1s_eJklQ"
   },
   "source": [
    "## [4.4.1] Converting text into vectors using Avg W2V, TFIDF-W2V"
   ]
  },
  {
   "cell_type": "markdown",
   "metadata": {
    "colab_type": "text",
    "id": "33z1pU7zJklQ"
   },
   "source": [
    "#### [4.4.1.1] Avg W2v"
   ]
  },
  {
   "cell_type": "code",
   "execution_count": 44,
   "metadata": {
    "colab": {},
    "colab_type": "code",
    "id": "Ce1_4JvaJklR",
    "outputId": "198ff07c-ab57-4395-bf04-4d43a9fa1205"
   },
   "outputs": [
    {
     "name": "stderr",
     "output_type": "stream",
     "text": [
      "100%|█████████████████████████████████████████████████████████████████████████| 126357/126357 [12:25<00:00, 169.42it/s]\n"
     ]
    },
    {
     "name": "stdout",
     "output_type": "stream",
     "text": [
      "126357\n",
      "50\n"
     ]
    }
   ],
   "source": [
    "# average Word2Vec\n",
    "# compute average word2vec for each review.\n",
    "from tqdm import tqdm\n",
    "sent_vectors = []; # the avg-w2v for each sentence/review is stored in this list\n",
    "for sent in tqdm(list_of_sentance): # for each review/sentence\n",
    "    sent_vec = np.zeros(50) # as word vectors are of zero length 50, you might need to change this to 300 if you use google's w2v\n",
    "    cnt_words =0; # num of words with a valid vector in the sentence/review\n",
    "    for word in sent: # for each word in a review/sentence\n",
    "        if word in w2v_words:\n",
    "            vec = w2v_model.wv[word]\n",
    "            sent_vec += vec\n",
    "            cnt_words += 1\n",
    "    if cnt_words != 0:\n",
    "        sent_vec /= cnt_words\n",
    "    sent_vectors.append(sent_vec)\n",
    "print(len(sent_vectors))\n",
    "print(len(sent_vectors[0]))"
   ]
  },
  {
   "cell_type": "markdown",
   "metadata": {
    "colab_type": "text",
    "id": "-R_AYTtwJklT"
   },
   "source": [
    "#### [4.4.1.2] TFIDF weighted W2v"
   ]
  },
  {
   "cell_type": "code",
   "execution_count": 45,
   "metadata": {
    "colab": {},
    "colab_type": "code",
    "collapsed": true,
    "id": "il5ldoFyJklU"
   },
   "outputs": [],
   "source": [
    "# S = [\"abc def pqr\", \"def def def abc\", \"pqr pqr def\"]\n",
    "model = TfidfVectorizer()\n",
    "tf_idf_matrix = model.fit_transform(preprocessed_reviews)\n",
    "# we are converting a dictionary with word as a key, and the idf as a value\n",
    "dictionary = dict(zip(model.get_feature_names(), list(model.idf_)))"
   ]
  },
  {
   "cell_type": "code",
   "execution_count": 46,
   "metadata": {
    "colab": {},
    "colab_type": "code",
    "id": "VUZMBVxpJklX",
    "outputId": "e826680b-3c3f-4c22-9de3-c7850f5ff737",
    "scrolled": true
   },
   "outputs": [
    {
     "data": {
      "application/vnd.jupyter.widget-view+json": {
       "model_id": "0e10f9d28c464a0e9c917af853848ab7",
       "version_major": 2,
       "version_minor": 0
      },
      "text/plain": [
       "A Jupyter Widget"
      ]
     },
     "metadata": {},
     "output_type": "display_data"
    },
    {
     "name": "stdout",
     "output_type": "stream",
     "text": [
      "\n"
     ]
    }
   ],
   "source": [
    "# TF-IDF weighted Word2Vec\n",
    "from tqdm import tqdm_notebook as tqdm\n",
    "tfidf_feat = model.get_feature_names() # tfidf words/col-names\n",
    "# final_tf_idf is the sparse matrix with row= sentence, col=word and cell_val = tfidf\n",
    "\n",
    "tfidf_sent_vectors = []; # the tfidf-w2v for each sentence/review is stored in this list\n",
    "row=0;\n",
    "for sent in tqdm(list_of_sentance): # for each review/sentence \n",
    "    sent_vec = np.zeros(50) # as word vectors are of zero length\n",
    "    weight_sum =0; # num of words with a valid vector in the sentence/review\n",
    "    for word in sent: # for each word in a review/sentence\n",
    "        if word in w2v_words and word in tfidf_feat:\n",
    "            vec = w2v_model.wv[word]\n",
    "#             tf_idf = tf_idf_matrix[row, tfidf_feat.index(word)]\n",
    "            # to reduce the computation we are \n",
    "            # dictionary[word] = idf value of word in whole courpus\n",
    "            # sent.count(word) = tf valeus of word in this review\n",
    "            tf_idf = dictionary[word]*(sent.count(word)/len(sent))\n",
    "            sent_vec += (vec * tf_idf)\n",
    "            weight_sum += tf_idf\n",
    "    if weight_sum != 0:\n",
    "        sent_vec /= weight_sum\n",
    "    tfidf_sent_vectors.append(sent_vec)\n",
    "    row += 1"
   ]
  },
  {
   "cell_type": "code",
   "execution_count": 47,
   "metadata": {
    "collapsed": true
   },
   "outputs": [],
   "source": [
    "final[\"cleaned_text\"] = preprocessed_reviews"
   ]
  },
  {
   "cell_type": "code",
   "execution_count": 48,
   "metadata": {
    "collapsed": true
   },
   "outputs": [],
   "source": [
    "final.head(3) #below the processed review can be seen in the CleanedText Column \n",
    "\n",
    "\n",
    "# store final table into an SQlLite table for future.\n",
    "conn = sqlite3.connect('final.sqlite')\n",
    "c=conn.cursor()\n",
    "conn.text_factory = str\n",
    "final.to_sql('Reviews', conn, schema=None, if_exists='replace', index=True, index_label=None, chunksize=None, dtype=None)"
   ]
  },
  {
   "cell_type": "code",
   "execution_count": 49,
   "metadata": {
    "collapsed": true
   },
   "outputs": [],
   "source": [
    "con = sqlite3.connect(\"final.sqlite\")\n",
    "cleaned_data = pd.read_sql_query(\"select * from Reviews\", con)"
   ]
  },
  {
   "cell_type": "code",
   "execution_count": 50,
   "metadata": {},
   "outputs": [
    {
     "data": {
      "text/plain": [
       "(126357, 12)"
      ]
     },
     "execution_count": 50,
     "metadata": {},
     "output_type": "execute_result"
    }
   ],
   "source": [
    "cleaned_data.shape"
   ]
  },
  {
   "cell_type": "markdown",
   "metadata": {
    "colab_type": "text",
    "id": "ZFN0k_hEJklb"
   },
   "source": [
    "# [5] Assignment 4: Apply Naive Bayes"
   ]
  },
  {
   "cell_type": "markdown",
   "metadata": {
    "colab_type": "text",
    "id": "O1ABSoejJklc"
   },
   "source": [
    "<ol>\n",
    "    <li><strong>Apply Multinomial NaiveBayes on these feature sets</strong>\n",
    "        <ul>\n",
    "            <li><font color='red'>SET 1:</font>Review text, preprocessed one converted into vectors using (BOW)</li>\n",
    "            <li><font color='red'>SET 2:</font>Review text, preprocessed one converted into vectors using (TFIDF)</li>\n",
    "        </ul>\n",
    "    </li>\n",
    "    <br>\n",
    "    <li><strong>The hyper paramter tuning(find best Alpha)</strong>\n",
    "        <ul>\n",
    "    <li>Find the best hyper parameter which will give the maximum <a href='https://www.appliedaicourse.com/course/applied-ai-course-online/lessons/receiver-operating-characteristic-curve-roc-curve-and-auc-1/'>AUC</a> value</li>\n",
    "    <li>Consider a wide range of alpha values for hyperparameter tuning, start as low as 0.00001</li>\n",
    "    <li>Find the best hyper paramter using k-fold cross validation or simple cross validation data</li>\n",
    "    <li>Use gridsearch cv or randomsearch cv or you can also write your own for loops to do this task of hyperparameter tuning</li>\n",
    "        </ul>\n",
    "    </li>\n",
    "    <br>\n",
    "    <li><strong>Feature importance</strong>\n",
    "        <ul>\n",
    "    <li>Find the top 10 features of positive class and top 10 features of negative class for both feature sets <font color='red'>Set 1</font> and <font color='red'>Set 2</font> using values of `feature_log_prob_` parameter of  <a href='https://scikit-learn.org/stable/modules/generated/sklearn.naive_bayes.MultinomialNB.html'>MultinomialNB</a> and print their corresponding feature names</li>\n",
    "        </ul>\n",
    "    </li>\n",
    "    <br>\n",
    "    <li><strong>Feature engineering</strong>\n",
    "        <ul>\n",
    "    <li>To increase the performance of your model, you can also experiment with with feature engineering like :</li>\n",
    "            <ul>\n",
    "            <li>Taking length of reviews as another feature.</li>\n",
    "            <li>Considering some features from review summary as well.</li>\n",
    "        </ul>\n",
    "        </ul>\n",
    "    </li>\n",
    "    <br>\n",
    "    <li><strong>Representation of results</strong>\n",
    "        <ul>\n",
    "    <li>You need to plot the performance of model both on train data and cross validation data for each hyper parameter, like shown in the figure. Here on X-axis you will have alpha values, since they have a wide range, just to represent those alpha values on the graph, apply log function on those alpha values.\n",
    "    <img src='train_cv_auc.JPG' width=300px></li>\n",
    "    <li>Once after you found the best hyper parameter, you need to train your model with it, and find the AUC on test data and plot the ROC curve on both train and test.\n",
    "    <img src='train_test_auc.JPG' width=300px></li>\n",
    "    <li>Along with plotting ROC curve, you need to print the <a href='https://www.appliedaicourse.com/course/applied-ai-course-online/lessons/confusion-matrix-tpr-fpr-fnr-tnr-1/'>confusion matrix</a> with predicted and original labels of test data points. Please visualize your confusion matrices using <a href='https://seaborn.pydata.org/generated/seaborn.heatmap.html'>seaborn heatmaps.\n",
    "    <img src='confusion_matrix.png' width=300px></li>\n",
    "        </ul>\n",
    "    </li>\n",
    "    <br>\n",
    "    <li><strong>Conclusion</strong>\n",
    "        <ul>\n",
    "    <li>You need to summarize the results at the end of the notebook, summarize it in the table format. To print out a table please refer to this prettytable library<a href='http://zetcode.com/python/prettytable/'>  link</a> \n",
    "        <img src='summary.JPG' width=400px>\n",
    "    </li>\n",
    "        </ul>\n",
    "</ol>"
   ]
  },
  {
   "cell_type": "markdown",
   "metadata": {
    "colab_type": "text",
    "id": "YawkDx8TJklc"
   },
   "source": [
    "<h4><font color='red'>Note: Data Leakage</font></h4>\n",
    "\n",
    "1. There will be an issue of data-leakage if you vectorize the entire data and then split it into train/cv/test.\n",
    "2. To avoid the issue of data-leakag, make sure to split your data first and then vectorize it. \n",
    "3. While vectorizing your data, apply the method fit_transform() on you train data, and apply the method transform() on cv/test data.\n",
    "4. For more details please go through this <a href='https://soundcloud.com/applied-ai-course/leakage-bow-and-tfidf'>link.</a>"
   ]
  },
  {
   "cell_type": "markdown",
   "metadata": {
    "colab_type": "text",
    "id": "RGRFxjhgJklc"
   },
   "source": [
    "# Applying Multinomial Naive Bayes"
   ]
  },
  {
   "cell_type": "markdown",
   "metadata": {
    "colab_type": "text",
    "id": "FxGKHpZlJkle"
   },
   "source": [
    "## [5.1] Applying Naive Bayes on BOW,<font color='red'> SET 1</font>"
   ]
  },
  {
   "cell_type": "code",
   "execution_count": 51,
   "metadata": {
    "colab": {},
    "colab_type": "code",
    "collapsed": true,
    "id": "UR0f8SfZJkle"
   },
   "outputs": [],
   "source": [
    "# Please write all the code with proper documentation\n",
    "#https://www.kaggle.com/premvardhan/amazon-fine-food-reviews-analysis-naive-bayes\n",
    "# Fuction to compute alpha value\n",
    "def naive_bayes(X_train, y_train):\n",
    "    \n",
    "    alpha_values = np.arange(0.0001,1 ,0.001)\n",
    "        \n",
    "\n",
    "    # empty list that will hold cv scores\n",
    "    cv_scores = []\n",
    "\n",
    "    # perform 10-fold cross validation\n",
    "    for alpha in alpha_values:\n",
    "        mnb = MultinomialNB(alpha = alpha)\n",
    "        scores = cross_val_score(mnb, X_train, y_train, cv = 10, scoring = 'roc_auc')\n",
    "        cv_scores.append(scores.mean())\n",
    "\n",
    "    # changing to misclassification error\n",
    "    MSE = [1 - x for x in cv_scores]\n",
    "# determining best alpha\n",
    "    optimal_alpha = alpha_values[MSE.index(min(MSE))]\n",
    "    \n",
    "    print('\\nThe optimal number of alpha is %d.' % optimal_alpha)\n",
    "\n",
    "    # plot misclassification error vs alpha\n",
    "    plt.plot(np.log2(alpha_values), MSE, marker = '*') \n",
    "\n",
    "    #for xy in zip(alpha_values, np.round(MSE,3)):\n",
    "        #plt.annotate('(%s, %s)' % xy, xy=xy, textcoords='data')\n",
    "    plt.title(\"Misclassification Error vs alpha\")\n",
    "    plt.xlabel('value of alpha')\n",
    "    plt.ylabel('Misclassification Error')\n",
    "    plt.show()\n",
    "\n",
    "    #print(\"the misclassification error for each value of alpha is : \", np.round(MSE,3))\n",
    "    return optimal_alpha"
   ]
  },
  {
   "cell_type": "code",
   "execution_count": 52,
   "metadata": {},
   "outputs": [
    {
     "name": "stdout",
     "output_type": "stream",
     "text": [
      "shape of X: (126357,)\n"
     ]
    }
   ],
   "source": [
    "#https://www.kaggle.com/premvardhan/amazon-fine-food-reviews-analysis-naive-bayes\n",
    "# 100k data which will use to train model after vectorization\n",
    "X = final[\"cleaned_text\"]\n",
    "print(\"shape of X:\", X.shape)"
   ]
  },
  {
   "cell_type": "code",
   "execution_count": 53,
   "metadata": {},
   "outputs": [
    {
     "name": "stdout",
     "output_type": "stream",
     "text": [
      "shape of y: (126357,)\n"
     ]
    }
   ],
   "source": [
    "#https://www.kaggle.com/premvardhan/amazon-fine-food-reviews-analysis-naive-bayes\n",
    "# class label\n",
    "y = final[\"Score\"]\n",
    "print(\"shape of y:\", y.shape)"
   ]
  },
  {
   "cell_type": "code",
   "execution_count": 54,
   "metadata": {},
   "outputs": [
    {
     "name": "stdout",
     "output_type": "stream",
     "text": [
      "(88449,) (88449,) (37908,)\n"
     ]
    }
   ],
   "source": [
    "#https://www.kaggle.com/premvardhan/amazon-fine-food-reviews-analysis-naive-bayes\n",
    "# split data into train and test where 70% data used to train model and 30% for test\n",
    "# final_4000[:int(len(final_4000) * 0.75)], final_4000[int(len(final_4000) * 0.75):]\n",
    "from sklearn.model_selection import train_test_split\n",
    "X_train, x_test, y_train, y_test = train_test_split(X, y, test_size = 0.3, random_state = 42)\n",
    "print(X_train.shape, y_train.shape, x_test.shape)"
   ]
  },
  {
   "cell_type": "code",
   "execution_count": 55,
   "metadata": {},
   "outputs": [
    {
     "data": {
      "text/plain": [
       "<88449x55882 sparse matrix of type '<class 'numpy.int64'>'\n",
       "\twith 2923742 stored elements in Compressed Sparse Row format>"
      ]
     },
     "execution_count": 55,
     "metadata": {},
     "output_type": "execute_result"
    }
   ],
   "source": [
    "#https://www.kaggle.com/premvardhan/amazon-fine-food-reviews-analysis-naive-bayes\n",
    "# Train Vectorizor\n",
    "from sklearn.feature_extraction.text import CountVectorizer \n",
    "\n",
    "bow = CountVectorizer()\n",
    "X_train = bow.fit_transform(X_train)\n",
    "X_train"
   ]
  },
  {
   "cell_type": "code",
   "execution_count": 56,
   "metadata": {
    "collapsed": true
   },
   "outputs": [],
   "source": [
    "# Test Vectorizor\n",
    "x_test = bow.transform(x_test)"
   ]
  },
  {
   "cell_type": "code",
   "execution_count": 57,
   "metadata": {},
   "outputs": [
    {
     "data": {
      "text/plain": [
       "(37908, 55882)"
      ]
     },
     "execution_count": 57,
     "metadata": {},
     "output_type": "execute_result"
    }
   ],
   "source": [
    "x_test.shape"
   ]
  },
  {
   "cell_type": "code",
   "execution_count": 58,
   "metadata": {},
   "outputs": [
    {
     "name": "stdout",
     "output_type": "stream",
     "text": [
      "\n",
      "The optimal number of alpha is 0.\n"
     ]
    },
    {
     "data": {
      "image/png": "[encoded data removed]",
      "text/plain": [
       "<Figure size 432x288 with 1 Axes>"
      ]
     },
     "metadata": {},
     "output_type": "display_data"
    },
    {
     "data": {
      "text/plain": [
       "0.3511"
      ]
     },
     "execution_count": 58,
     "metadata": {},
     "output_type": "execute_result"
    }
   ],
   "source": [
    "#https://www.kaggle.com/premvardhan/amazon-fine-food-reviews-analysis-naive-bayes\n",
    "# To choose optimal_alpha using cross validation\n",
    "import warnings\n",
    "warnings.filterwarnings(\"ignore\")\n",
    "from sklearn.naive_bayes import MultinomialNB\n",
    "from sklearn.cross_validation import cross_val_score\n",
    "optimal_alpha_bow = naive_bayes(X_train, y_train)\n",
    "optimal_alpha_bow"
   ]
  },
  {
   "cell_type": "code",
   "execution_count": 59,
   "metadata": {
    "collapsed": true
   },
   "outputs": [],
   "source": [
    "#https://www.kaggle.com/premvardhan/amazon-fine-food-reviews-analysis-naive-bayes\n",
    "# instantiate learning model alpha = optimal_alpha\n",
    "nb_optimal =  MultinomialNB(alpha = optimal_alpha_bow)\n",
    "\n",
    "# fitting the model\n",
    "nb_optimal.fit(X_train, y_train)\n",
    "#knn_optimal.fit(bow_data, y_train)\n",
    "\n",
    "# predict the response\n",
    "pred = nb_optimal.predict(x_test)\n"
   ]
  },
  {
   "cell_type": "code",
   "execution_count": 60,
   "metadata": {
    "collapsed": true
   },
   "outputs": [],
   "source": [
    "# To get all the features name \n",
    "\n",
    "bow_features = bow.get_feature_names()"
   ]
  },
  {
   "cell_type": "code",
   "execution_count": 61,
   "metadata": {},
   "outputs": [
    {
     "data": {
      "text/plain": [
       "(2, 55882)"
      ]
     },
     "execution_count": 61,
     "metadata": {},
     "output_type": "execute_result"
    }
   ],
   "source": [
    "# To count feature for each class while fitting the model\n",
    "# Number of samples encountered for each (class, feature) during fitting\n",
    "\n",
    "feat_count = nb_optimal.feature_count_\n",
    "feat_count.shape"
   ]
  },
  {
   "cell_type": "code",
   "execution_count": 62,
   "metadata": {},
   "outputs": [
    {
     "data": {
      "text/plain": [
       "array([13993., 74456.])"
      ]
     },
     "execution_count": 62,
     "metadata": {},
     "output_type": "execute_result"
    }
   ],
   "source": [
    "# Number of samples encountered for each class during fitting\n",
    "\n",
    "nb_optimal.class_count_"
   ]
  },
  {
   "cell_type": "code",
   "execution_count": 63,
   "metadata": {},
   "outputs": [
    {
     "data": {
      "text/plain": [
       "array([[-12.4906415 , -14.392209  , -14.392209  , ..., -14.392209  ,\n",
       "        -14.392209  , -13.04460573],\n",
       "       [-11.91485522, -13.20030234, -13.66831583, ..., -14.57668541,\n",
       "        -14.57668541, -14.57668541]])"
      ]
     },
     "execution_count": 63,
     "metadata": {},
     "output_type": "execute_result"
    }
   ],
   "source": [
    "#https://www.kaggle.com/premvardhan/amazon-fine-food-reviews-analysis-naive-bayes\n",
    "# Empirical log probability of features given a class(i.e. P(x_i|y))\n",
    "\n",
    "log_prob = nb_optimal.feature_log_prob_\n",
    "log_prob"
   ]
  },
  {
   "cell_type": "code",
   "execution_count": 64,
   "metadata": {},
   "outputs": [
    {
     "data": {
      "text/plain": [
       "(55882, 2)"
      ]
     },
     "execution_count": 64,
     "metadata": {},
     "output_type": "execute_result"
    }
   ],
   "source": [
    "feature_prob = pd.DataFrame(log_prob, columns = bow_features)\n",
    "feature_prob_tr = feature_prob.T\n",
    "feature_prob_tr.shape"
   ]
  },
  {
   "cell_type": "code",
   "execution_count": 65,
   "metadata": {},
   "outputs": [
    {
     "name": "stdout",
     "output_type": "stream",
     "text": [
      "Train accuracy 0.931158068491447\n"
     ]
    }
   ],
   "source": [
    "# Accuracy on train data\n",
    "train_acc_bow = nb_optimal.score(X_train, y_train)\n",
    "print(\"Train accuracy\", train_acc_bow)"
   ]
  },
  {
   "cell_type": "code",
   "execution_count": 66,
   "metadata": {},
   "outputs": [
    {
     "name": "stdout",
     "output_type": "stream",
     "text": [
      "Train Error 0.068842%\n"
     ]
    }
   ],
   "source": [
    "# Error on train data\n",
    "train_err_bow = 1-train_acc_bow\n",
    "print(\"Train Error %f%%\" % (train_err_bow))"
   ]
  },
  {
   "cell_type": "code",
   "execution_count": 67,
   "metadata": {},
   "outputs": [
    {
     "name": "stdout",
     "output_type": "stream",
     "text": [
      "\n",
      "The accuracy of the naive bayes classifier for alpha = 0 is 90.819880%\n"
     ]
    }
   ],
   "source": [
    "#https://www.kaggle.com/premvardhan/amazon-fine-food-reviews-analysis-naive-bayes\n",
    "# evaluate accuracy on test data\n",
    "from sklearn.metrics import accuracy_score\n",
    "acc_bow = accuracy_score(y_test, pred) * 100\n",
    "print('\\nThe accuracy of the naive bayes classifier for alpha = %d is %f%%' % (optimal_alpha_bow, acc_bow))"
   ]
  },
  {
   "cell_type": "code",
   "execution_count": 68,
   "metadata": {},
   "outputs": [
    {
     "data": {
      "text/plain": [
       "array([[ 4210,  1828],\n",
       "       [ 1652, 30218]], dtype=int64)"
      ]
     },
     "execution_count": 68,
     "metadata": {},
     "output_type": "execute_result"
    }
   ],
   "source": [
    "# Confusion Matrix\n",
    "from sklearn.metrics import confusion_matrix\n",
    "cm = confusion_matrix(y_test, pred)\n",
    "cm"
   ]
  },
  {
   "cell_type": "code",
   "execution_count": 69,
   "metadata": {},
   "outputs": [
    {
     "data": {
      "image/png": "[encoded data removed]",
      "text/plain": [
       "<Figure size 432x288 with 2 Axes>"
      ]
     },
     "metadata": {},
     "output_type": "display_data"
    }
   ],
   "source": [
    "#https://www.kaggle.com/premvardhan/amazon-fine-food-reviews-analysis-naive-bayes\n",
    "# plot confusion matrix to describe the performance of classifier.\n",
    "import seaborn as sns\n",
    "class_label = [\"negative\", \"positive\"]\n",
    "df_cm = pd.DataFrame(cm, index = class_label, columns = class_label)\n",
    "sns.heatmap(df_cm, annot = True, fmt = \"d\")\n",
    "plt.title(\"Confusion Matrix\")\n",
    "plt.xlabel(\"Predicted Label\")\n",
    "plt.ylabel(\"True Label\")\n",
    "plt.show()"
   ]
  },
  {
   "cell_type": "code",
   "execution_count": 70,
   "metadata": {},
   "outputs": [
    {
     "name": "stdout",
     "output_type": "stream",
     "text": [
      "             precision    recall  f1-score   support\n",
      "\n",
      "          0       0.72      0.70      0.71      6038\n",
      "          1       0.94      0.95      0.95     31870\n",
      "\n",
      "avg / total       0.91      0.91      0.91     37908\n",
      "\n"
     ]
    }
   ],
   "source": [
    "# To show main classification report\n",
    "from sklearn.metrics import classification_report\n",
    "print(classification_report(y_test, pred))"
   ]
  },
  {
   "cell_type": "markdown",
   "metadata": {
    "colab_type": "text",
    "id": "u-ZSD3tlJklg"
   },
   "source": [
    "### [5.1.1] Top 10 important features of positive class from<font color='red'> SET 1</font>"
   ]
  },
  {
   "cell_type": "code",
   "execution_count": 71,
   "metadata": {
    "colab": {},
    "colab_type": "code",
    "id": "86fu_aO8Jklg"
   },
   "outputs": [
    {
     "name": "stdout",
     "output_type": "stream",
     "text": [
      "Top 10 Positive Features:-\n",
      " not       -3.724110\n",
      "like      -4.534851\n",
      "good      -4.683077\n",
      "great     -4.749041\n",
      "one       -4.879064\n",
      "coffee    -4.946193\n",
      "taste     -4.968764\n",
      "flavor    -5.066981\n",
      "love      -5.071766\n",
      "product   -5.078070\n",
      "Name: 1, dtype: float64\n"
     ]
    }
   ],
   "source": [
    "# Please write all the code with proper documentation\n",
    "print(\"Top 10 Positive Features:-\\n\",feature_prob_tr[1].sort_values(ascending = False)[0:10])"
   ]
  },
  {
   "cell_type": "markdown",
   "metadata": {
    "colab_type": "text",
    "id": "mquFtwF5Jklj"
   },
   "source": [
    "### [5.1.2] Top 10 important features of negative class from<font color='red'> SET 1</font>"
   ]
  },
  {
   "cell_type": "code",
   "execution_count": 72,
   "metadata": {
    "colab": {},
    "colab_type": "code",
    "id": "_RacUnTrJklj"
   },
   "outputs": [
    {
     "name": "stdout",
     "output_type": "stream",
     "text": [
      "Top 10 Negative Features:-\n",
      " not       -3.299655\n",
      "like      -4.411419\n",
      "would     -4.679334\n",
      "taste     -4.688856\n",
      "product   -4.704637\n",
      "one       -4.903411\n",
      "coffee    -5.056902\n",
      "good      -5.139391\n",
      "no        -5.167630\n",
      "flavor    -5.237398\n",
      "Name: 0, dtype: float64\n"
     ]
    }
   ],
   "source": [
    "# Please write all the code with proper documentation\n",
    "# Feature Importance\n",
    "print(\"Top 10 Negative Features:-\\n\",feature_prob_tr[0].sort_values(ascending = False)[0:10])"
   ]
  },
  {
   "cell_type": "code",
   "execution_count": 73,
   "metadata": {
    "collapsed": true
   },
   "outputs": [],
   "source": [
    "#https://github.com/omkar1610/Amazon-Fine-Food-Reviews/blob/master/04%20Amazon%20Fine%20Food%20Reviews%20Analysis_NaiveBayes_Adding%20new%20Features.ipynb\n",
    "from sklearn.naive_bayes import MultinomialNB\n",
    "def nb_all(train,test,cv):\n",
    "    #Calculation NB for different k values\n",
    "    auc_train = []\n",
    "    auc_cv = []\n",
    "    a = np.arange(0.0001,2,0.001)\n",
    "    print(\"Starting classifier...\")\n",
    "    for i in tqdm(a):\n",
    "        NB = MultinomialNB(alpha=i)\n",
    "        NB.fit(train,y_train)\n",
    "\n",
    "        pred_prob = NB.predict_proba(cv)\n",
    "        pred_prob_train = NB.predict_proba(train)\n",
    "\n",
    "        #acc = accuracy_score(Y_cv, pred, normalize=True) * float(100)\n",
    "        auc_cv.append(roc_auc_score(y_cv, pred_prob[:,1]))\n",
    "        auc_train.append(roc_auc_score(y_train, pred_prob_train[:,1]))\n",
    "\n",
    "    #Plotting the AUC curve for train and test data\n",
    "\n",
    "    #Print the graph\n",
    "\n",
    "    plt.plot(a,auc_train,'r', label = 'Train Data')\n",
    "    plt.plot(a,auc_cv,'b', label = 'CV Data')\n",
    "    plt.ylim(0,1)\n",
    "    plt.legend(bbox_to_anchor=(1.05, 1), loc='upper left', borderaxespad=0.)\n",
    "    plt.grid(True)\n",
    "    plt.title(\"AUC Values for Train and CV Data\\n\")\n",
    "    plt.xlabel(\"Hyper Parameter(alpha)\")\n",
    "    plt.ylabel(\"AUC Value\")\n",
    "    plt.show()\n",
    "\n",
    "\n",
    "    #Get k value for max auc in cv data\n",
    "    mx = 0\n",
    "    for i in range(len(auc_cv)):\n",
    "        if(auc_cv[i]> auc_cv[mx]):\n",
    "            mx = i\n",
    "    opt = a[mx] \n",
    "    print(\"The optimal value of alpha = \", opt)\n",
    "\n",
    "    #print(\"\\nClassifying Test Data\\n\\n\")\n",
    "    NB = MultinomialNB(alpha=opt)\n",
    "    NB.fit(train,y_train)\n",
    "    pred_prob = NB.predict_proba(test)\n",
    "\n",
    "    print(\"\\nThe AUC value for test data is \",roc_auc_score(y_test, pred_prob[:,1]))\n",
    "    \n",
    "    #Get k value for max auc in cv data\n",
    "    print(\"\\nClassifying Test Data\\n\\n\")\n",
    "    \n",
    "\n",
    "    #pred = NB.predict(test)\n",
    "    pred_prob = NB.predict_proba(test)\n",
    "\n",
    "    #pred_train = NB.predict(X_train_vec)\n",
    "    pred_prob_train = NB.predict_proba(train)\n",
    "\n",
    "    #ROC Values comutation\n",
    "    fpr, tpr, threshold = roc_curve(y_train, pred_prob_train[:,1])\n",
    "    fpr1, tpr1, threshold1 = roc_curve(y_test, pred_prob[:,1])\n",
    "    print(\"The AUC value for test data is \",roc_auc_score(y_test, pred_prob[:,1]))\n",
    "\n",
    "    plt.plot(fpr,tpr,'r', label = 'Train Data')\n",
    "    plt.plot(fpr1,tpr1,'b', label = 'Test Data')\n",
    "    plt.ylim(0,1)\n",
    "    plt.legend(bbox_to_anchor=(1.05, 1), loc='upper left', borderaxespad=0.)\n",
    "    plt.grid(True)\n",
    "    plt.title(\"ROC Curve for Train and Test Data\\n\")\n",
    "    plt.xlabel(\"FPR\")\n",
    "    plt.ylabel(\"TPR\")\n",
    "    plt.show()"
   ]
  },
  {
   "cell_type": "code",
   "execution_count": 77,
   "metadata": {
    "collapsed": true
   },
   "outputs": [],
   "source": [
    "#https://github.com/omkar1610/Amazon-Fine-Food-Reviews/blob/master/04%20Amazon%20Fine%20Food%20Reviews%20Analysis_NaiveBayes_Adding%20new%20Features.ipynb\n",
    "X_train, X_cv, y_train, y_cv = train_test_split(X_train, y_train, test_size=0.33) # this is random splitting\n",
    "X_train, X_test, y_train, y_test = train_test_split(X, y, test_size=0.33)\n"
   ]
  },
  {
   "cell_type": "code",
   "execution_count": 78,
   "metadata": {},
   "outputs": [
    {
     "name": "stdout",
     "output_type": "stream",
     "text": [
      "(84659,) (84659,)\n",
      "(27938,) (27938,)\n",
      "(41698,) (41698,)\n",
      "After vectorizations\n",
      "(84659, 54423) (84659,)\n",
      "(27938, 54423) (27938,)\n",
      "(41698, 54423) (41698,)\n",
      "====================================================================================================\n"
     ]
    }
   ],
   "source": [
    "#https://github.com/omkar1610/Amazon-Fine-Food-Reviews/blob/master/04%20Amazon%20Fine%20Food%20Reviews%20Analysis_NaiveBayes_Adding%20new%20Features.ipynb\n",
    "print(X_train.shape, y_train.shape)\n",
    "print(X_cv.shape, y_cv.shape)\n",
    "print(X_test.shape, y_test.shape)\n",
    "\n",
    "from sklearn.feature_extraction.text import CountVectorizer\n",
    "vectorizer = CountVectorizer()\n",
    "vectorizer.fit(X_train) # fit has to happen only on train data\n",
    "\n",
    "# we use the fitted CountVectorizer to convert the text to vector\n",
    "X_train_bow = vectorizer.transform(X_train)\n",
    "X_cv_bow = vectorizer.transform(X_cv)\n",
    "X_test_bow = vectorizer.transform(X_test)\n",
    "\n",
    "print(\"After vectorizations\")\n",
    "print(X_train_bow.shape, y_train.shape)\n",
    "print(X_cv_bow.shape, y_cv.shape)\n",
    "print(X_test_bow.shape, y_test.shape)\n",
    "print(\"=\"*100)"
   ]
  },
  {
   "cell_type": "code",
   "execution_count": 79,
   "metadata": {},
   "outputs": [
    {
     "name": "stdout",
     "output_type": "stream",
     "text": [
      "Starting classifier...\n"
     ]
    },
    {
     "data": {
      "application/vnd.jupyter.widget-view+json": {
       "model_id": "9bcf00a2afbb49d59d16c1e53d0e4c58",
       "version_major": 2,
       "version_minor": 0
      },
      "text/plain": [
       "A Jupyter Widget"
      ]
     },
     "metadata": {},
     "output_type": "display_data"
    },
    {
     "name": "stdout",
     "output_type": "stream",
     "text": [
      "\n"
     ]
    },
    {
     "data": {
      "image/png": "[encoded data removed]",
      "text/plain": [
       "<Figure size 432x288 with 1 Axes>"
      ]
     },
     "metadata": {},
     "output_type": "display_data"
    },
    {
     "name": "stdout",
     "output_type": "stream",
     "text": [
      "The optimal value of alpha =  0.0441\n",
      "\n",
      "The AUC value for test data is  0.9093863904011185\n",
      "\n",
      "Classifying Test Data\n",
      "\n",
      "\n",
      "The AUC value for test data is  0.9093863904011185\n"
     ]
    },
    {
     "data": {
      "image/png": "[encoded data removed]",
      "text/plain": [
       "<Figure size 432x288 with 1 Axes>"
      ]
     },
     "metadata": {},
     "output_type": "display_data"
    }
   ],
   "source": [
    "#https://github.com/omkar1610/Amazon-Fine-Food-Reviews/blob/master/04%20Amazon%20Fine%20Food%20Reviews%20Analysis_NaiveBayes_Adding%20new%20Features.ipynb\n",
    "from sklearn. metrics import roc_auc_score\n",
    "\n",
    "nb_all(X_train_bow,X_test_bow,X_cv_bow)"
   ]
  },
  {
   "cell_type": "markdown",
   "metadata": {},
   "source": [
    "<h3>Conclusion for bow</h3>"
   ]
  },
  {
   "cell_type": "markdown",
   "metadata": {},
   "source": [
    "<b>Observations:</b><br>\n",
    "1.The optimal value of alpha is 0.0441.<br> \n",
    "2.Auc values for train and CV data can be seen as closely overlapping on each other. And they are close to value of 1.0 which is good.<br>\n",
    "3.As I tested our model on unseen data(test data) the accuracy is 90.81% when alpha is=0<br>\n",
    "4.In confusion matrix, It is clear that predicted +ve and true +ve is 30218.Which seems to be a good number.<br>\n",
    "5.In a nutshell we can say the generalization error is low means this model works well with unseen data. And area under the curve is large enough<br>"
   ]
  },
  {
   "cell_type": "markdown",
   "metadata": {
    "colab_type": "text",
    "id": "6bp7BbwCJkll"
   },
   "source": [
    "## [5.2] Applying Naive Bayes on TFIDF,<font color='red'> SET 2</font>"
   ]
  },
  {
   "cell_type": "code",
   "execution_count": 87,
   "metadata": {
    "colab": {},
    "colab_type": "code",
    "collapsed": true,
    "id": "oL29fzPFJkll"
   },
   "outputs": [],
   "source": [
    "# Please write all the code with proper documentation\n",
    "# data\n",
    "X = final[\"cleaned_text\"]"
   ]
  },
  {
   "cell_type": "code",
   "execution_count": 88,
   "metadata": {
    "collapsed": true
   },
   "outputs": [],
   "source": [
    "# Target/class-label\n",
    "y = final[\"Score\"]"
   ]
  },
  {
   "cell_type": "code",
   "execution_count": 89,
   "metadata": {},
   "outputs": [
    {
     "name": "stdout",
     "output_type": "stream",
     "text": [
      "(88449,) (37908,) (88449,) (37908,)\n"
     ]
    }
   ],
   "source": [
    "# Split data\n",
    "X_train, x_test, y_train, y_test = train_test_split(X, y, test_size = 0.3, random_state = 42)\n",
    "print(X_train.shape, x_test.shape, y_train.shape, y_test.shape)"
   ]
  },
  {
   "cell_type": "code",
   "execution_count": 90,
   "metadata": {},
   "outputs": [
    {
     "data": {
      "text/plain": [
       "<88449x500 sparse matrix of type '<class 'numpy.float64'>'\n",
       "\twith 1693820 stored elements in Compressed Sparse Row format>"
      ]
     },
     "execution_count": 90,
     "metadata": {},
     "output_type": "execute_result"
    }
   ],
   "source": [
    "#https://www.kaggle.com/premvardhan/amazon-fine-food-reviews-analysis-naive-bayes\n",
    "from sklearn.feature_extraction.text import TfidfVectorizer\n",
    "\n",
    "#tfidf = TfidfVectorizer()\n",
    "#tfidf_data = tfidf.fit_transform(final_4000[\"CleanedText\"])\n",
    "#tfidf_data\n",
    "tf_idf_vect = TfidfVectorizer(ngram_range=(1,2), max_features=500)\n",
    "X_train = tf_idf_vect.fit_transform(X_train)\n",
    "X_train"
   ]
  },
  {
   "cell_type": "code",
   "execution_count": 91,
   "metadata": {},
   "outputs": [
    {
     "data": {
      "text/plain": [
       "(37908, 500)"
      ]
     },
     "execution_count": 91,
     "metadata": {},
     "output_type": "execute_result"
    }
   ],
   "source": [
    "# Convert test text data to its vectorizor\n",
    "x_test = tf_idf_vect.transform(x_test)\n",
    "x_test.shape"
   ]
  },
  {
   "cell_type": "code",
   "execution_count": 92,
   "metadata": {},
   "outputs": [
    {
     "name": "stdout",
     "output_type": "stream",
     "text": [
      "\n",
      "The optimal number of alpha is 0.\n"
     ]
    },
    {
     "data": {
      "image/png": "[encoded data removed]",
      "text/plain": [
       "<Figure size 432x288 with 1 Axes>"
      ]
     },
     "metadata": {},
     "output_type": "display_data"
    },
    {
     "data": {
      "text/plain": [
       "0.9981"
      ]
     },
     "execution_count": 92,
     "metadata": {},
     "output_type": "execute_result"
    }
   ],
   "source": [
    "#https://www.kaggle.com/premvardhan/amazon-fine-food-reviews-analysis-naive-bayes\n",
    "# To choosing optimal_alpha\n",
    "from sklearn.naive_bayes import MultinomialNB\n",
    "from sklearn.cross_validation import cross_val_score\n",
    "optimal_alpha_tfidf = naive_bayes(X_train, y_train)\n",
    "optimal_alpha_tfidf"
   ]
  },
  {
   "cell_type": "markdown",
   "metadata": {},
   "source": [
    "<b>Observations:</b><br>\n",
    "1.The above graph seems to be less efficient in predicting the optimal alpha and it takes lot of time in doing so. Thus I shall implement another method to predict a efficient and optimal alpha."
   ]
  },
  {
   "cell_type": "code",
   "execution_count": 102,
   "metadata": {
    "collapsed": true
   },
   "outputs": [],
   "source": [
    "#https://github.com/omkar1610/Amazon-Fine-Food-Reviews/blob/master/04%20Amazon%20Fine%20Food%20Reviews%20Analysis_NaiveBayes_Adding%20new%20Features.ipynb\n",
    "from sklearn.naive_bayes import MultinomialNB\n",
    "def nb_all(train,test,cv):\n",
    "    #Calculation NB for different k values\n",
    "    auc_train = []\n",
    "    auc_cv = []\n",
    "    a = np.arange(0.0001,2,0.001)\n",
    "    print(\"Starting classifier...\")\n",
    "    for i in tqdm(a):\n",
    "        NB = MultinomialNB(alpha=i)\n",
    "        NB.fit(train,y_train)\n",
    "\n",
    "        pred_prob = NB.predict_proba(cv)\n",
    "        pred_prob_train = NB.predict_proba(train)\n",
    "\n",
    "        #acc = accuracy_score(Y_cv, pred, normalize=True) * float(100)\n",
    "        auc_cv.append(roc_auc_score(y_cv, pred_prob[:,1]))\n",
    "        auc_train.append(roc_auc_score(y_train, pred_prob_train[:,1]))\n",
    "\n",
    "    #Plotting the AUC curve for train and test data\n",
    "\n",
    "    #Print the graph\n",
    "\n",
    "    plt.plot(a,auc_train,'r', label = 'Train Data')\n",
    "    plt.plot(a,auc_cv,'b', label = 'CV Data')\n",
    "    plt.ylim(0,1)\n",
    "    plt.legend(bbox_to_anchor=(1.05, 1), loc='upper left', borderaxespad=0.)\n",
    "    plt.grid(True)\n",
    "    plt.title(\"AUC Values for Train and CV Data\\n\")\n",
    "    plt.xlabel(\"Hyper Parameter(alpha)\")\n",
    "    plt.ylabel(\"AUC Value\")\n",
    "    plt.show()\n",
    "\n",
    "\n",
    "    #Get k value for max auc in cv data\n",
    "    mx = 0\n",
    "    for i in range(len(auc_cv)):\n",
    "        if(auc_cv[i]> auc_cv[mx]):\n",
    "            mx = i\n",
    "    opt = a[mx] \n",
    "    print(\"The optimal value of alpha = \", opt)\n",
    "\n",
    "    #print(\"\\nClassifying Test Data\\n\\n\")\n",
    "    NB = MultinomialNB(alpha=opt)\n",
    "    NB.fit(train,y_train)\n",
    "    pred_prob = NB.predict_proba(test)\n",
    "\n",
    "    print(\"\\nThe AUC value for test data is \",roc_auc_score(y_test, pred_prob[:,1]))\n",
    "    \n",
    "    #Get k value for max auc in cv data\n",
    "    print(\"\\nClassifying Test Data\\n\\n\")\n",
    "    \n",
    "\n",
    "    #pred = NB.predict(test)\n",
    "    pred_prob = NB.predict_proba(test)\n",
    "\n",
    "    #pred_train = NB.predict(X_train_vec)\n",
    "    pred_prob_train = NB.predict_proba(train)\n",
    "\n",
    "    #ROC Values computation\n",
    "    fpr, tpr, threshold = roc_curve(y_train, pred_prob_train[:,1])\n",
    "    fpr1, tpr1, threshold1 = roc_curve(y_test, pred_prob[:,1])\n",
    "    print(\"The AUC value for test data is \",roc_auc_score(y_test, pred_prob[:,1]))\n",
    "\n",
    "    plt.plot(fpr,tpr,'r', label = 'Train Data')\n",
    "    plt.plot(fpr1,tpr1,'b', label = 'Test Data')\n",
    "    plt.ylim(0,1)\n",
    "    plt.legend(bbox_to_anchor=(1.05, 1), loc='upper left', borderaxespad=0.)\n",
    "    plt.grid(True)\n",
    "    plt.title(\"ROC Curve for Train and Test Data\\n\")\n",
    "    plt.xlabel(\"FPR\")\n",
    "    plt.ylabel(\"TPR\")\n",
    "    plt.show()"
   ]
  },
  {
   "cell_type": "code",
   "execution_count": 103,
   "metadata": {
    "collapsed": true
   },
   "outputs": [],
   "source": [
    "#https://github.com/omkar1610/Amazon-Fine-Food-Reviews/blob/master/04%20Amazon%20Fine%20Food%20Reviews%20Analysis_NaiveBayes_Adding%20new%20Features.ipynb\n",
    "X_train, X_cv, y_train, y_cv = train_test_split(X_train, y_train, test_size=0.33) # this is random splitting\n",
    "X_train, X_test, y_train, y_test = train_test_split(X, y, test_size=0.33)"
   ]
  },
  {
   "cell_type": "code",
   "execution_count": 117,
   "metadata": {},
   "outputs": [
    {
     "name": "stdout",
     "output_type": "stream",
     "text": [
      "(84659,) (84659,)\n",
      "(27938,) (27938,)\n",
      "(41698,) (41698,)\n",
      "After vectorizations\n",
      "(84659, 500) (84659,)\n",
      "(27938, 500) (27938,)\n",
      "(41698, 500) (41698,)\n",
      "====================================================================================================\n"
     ]
    }
   ],
   "source": [
    "#https://github.com/omkar1610/Amazon-Fine-Food-Reviews/blob/master/04%20Amazon%20Fine%20Food%20Reviews%20Analysis_NaiveBayes_Adding%20new%20Features.ipynb\n",
    "print(X_train.shape, y_train.shape)\n",
    "print(X_cv.shape, y_cv.shape)\n",
    "print(X_test.shape, y_test.shape)\n",
    "\n",
    "from sklearn.feature_extraction.text import CountVectorizer\n",
    "vectorizer = CountVectorizer(max_features=500)\n",
    "vectorizer.fit(X_train) # fit has to happen only on train data\n",
    "\n",
    "# we use the fitted CountVectorizer to convert the text to vector\n",
    "X_train_tfidf = vectorizer.transform(X_train)\n",
    "X_cv_tfidf = vectorizer.transform(X_cv)\n",
    "X_test_tfidf = vectorizer.transform(X_test)\n",
    "\n",
    "print(\"After vectorizations\")\n",
    "print(X_train_tfidf.shape, y_train.shape)\n",
    "print(X_cv_tfidf.shape, y_cv.shape)\n",
    "print(X_test_tfidf.shape, y_test.shape)\n",
    "print(\"=\"*100)"
   ]
  },
  {
   "cell_type": "code",
   "execution_count": 118,
   "metadata": {},
   "outputs": [
    {
     "name": "stdout",
     "output_type": "stream",
     "text": [
      "Starting classifier...\n"
     ]
    },
    {
     "data": {
      "application/vnd.jupyter.widget-view+json": {
       "model_id": "d865a88978d5468f9ea27053380d8ddd",
       "version_major": 2,
       "version_minor": 0
      },
      "text/plain": [
       "A Jupyter Widget"
      ]
     },
     "metadata": {},
     "output_type": "display_data"
    },
    {
     "name": "stdout",
     "output_type": "stream",
     "text": [
      "\n"
     ]
    },
    {
     "data": {
      "image/png": "[encoded data removed]",
      "text/plain": [
       "<Figure size 432x288 with 1 Axes>"
      ]
     },
     "metadata": {},
     "output_type": "display_data"
    },
    {
     "name": "stdout",
     "output_type": "stream",
     "text": [
      "The optimal value of alpha =  1.8561\n",
      "\n",
      "The AUC value for test data is  0.8849976063298092\n",
      "\n",
      "Classifying Test Data\n",
      "\n",
      "\n",
      "The AUC value for test data is  0.8849976063298092\n"
     ]
    },
    {
     "data": {
      "image/png": "[encoded data removed]",
      "text/plain": [
       "<Figure size 432x288 with 1 Axes>"
      ]
     },
     "metadata": {},
     "output_type": "display_data"
    }
   ],
   "source": [
    "# Please write all the code with proper documentation\n",
    "nb_all(X_train_tfidf,X_test_tfidf,X_cv_tfidf)"
   ]
  },
  {
   "cell_type": "code",
   "execution_count": 119,
   "metadata": {},
   "outputs": [],
   "source": [
    "#https://www.kaggle.com/premvardhan/amazon-fine-food-reviews-analysis-naive-bayes\n",
    "# instantiate learning model alpha = optimal_alpha\n",
    "nb_optimal = MultinomialNB(alpha = 1.8561)\n",
    "\n",
    "# fitting the model\n",
    "nb_optimal.fit(X_train_tfidf, y_train)\n",
    "#knn_optimal.fit(bow_data, y_train)\n",
    "    \n",
    "# predict the response\n",
    "pred = nb_optimal.predict(X_test_tfidf)"
   ]
  },
  {
   "cell_type": "code",
   "execution_count": 120,
   "metadata": {
    "collapsed": true
   },
   "outputs": [],
   "source": [
    "# To get all the features name \n",
    "tfidf_features = tf_idf_vect.get_feature_names()"
   ]
  },
  {
   "cell_type": "code",
   "execution_count": 121,
   "metadata": {},
   "outputs": [
    {
     "data": {
      "text/plain": [
       "(2, 500)"
      ]
     },
     "execution_count": 121,
     "metadata": {},
     "output_type": "execute_result"
    }
   ],
   "source": [
    "# To count feature for each class while fitting the model\n",
    "# Number of samples encountered for each (class, feature) during fitting\n",
    "feat_count = nb_optimal.feature_count_\n",
    "feat_count.shape"
   ]
  },
  {
   "cell_type": "code",
   "execution_count": 122,
   "metadata": {},
   "outputs": [
    {
     "data": {
      "text/plain": [
       "array([13414., 71245.])"
      ]
     },
     "execution_count": 122,
     "metadata": {},
     "output_type": "execute_result"
    }
   ],
   "source": [
    "# Number of samples encountered for each class during fitting\n",
    "nb_optimal.class_count_"
   ]
  },
  {
   "cell_type": "code",
   "execution_count": 123,
   "metadata": {},
   "outputs": [
    {
     "data": {
      "text/plain": [
       "array([[-6.96315739, -6.91358956, -6.16012092, -6.55226129, -6.55648199,\n",
       "        -7.4849343 , -6.72918272, -6.87796227, -6.00981015, -5.31963983,\n",
       "        -7.84884619, -6.92881723, -6.66824117, -8.20599616, -4.95188787,\n",
       "        -6.55859903, -5.90639264, -6.61527685, -6.07297393, -7.25205123,\n",
       "        -6.55436941, -6.45788122, -6.63796096, -7.03559174, -7.15514508,\n",
       "        -5.74938468, -8.59046238, -6.69946698, -5.65749901, -5.23605472,\n",
       "        -5.44020044, -6.09940057, -6.7676139 , -6.54805833, -6.51708691,\n",
       "        -7.21460241, -6.81030343, -6.10746669, -5.29837996, -6.29714294,\n",
       "        -6.25559387, -7.07743066, -6.28740033, -6.58871816, -6.85775117,\n",
       "        -7.56281364, -6.30369115, -5.20931003, -7.47959686, -5.15214722,\n",
       "        -6.40926044, -5.72147215, -6.72918272, -7.52311601, -7.58032149,\n",
       "        -7.45852749, -6.98564063, -6.49895427, -4.9677384 , -5.95155437,\n",
       "        -7.55704515, -7.23523394, -6.75722031, -6.34390727, -6.60857075,\n",
       "        -7.34066112, -6.7546387 , -6.3822491 , -6.98239763, -6.38047402,\n",
       "        -6.31691763, -6.51100609, -6.85205081, -7.10632855, -6.6611716 ,\n",
       "        -7.11368542, -6.25716039, -6.61977269, -5.39815625, -7.5342983 ,\n",
       "        -7.46900668, -7.65994427, -7.20242476, -7.20646752, -6.32025176,\n",
       "        -4.46156221, -7.6162845 , -6.79140214, -6.62202821, -6.84356074,\n",
       "        -5.91861018, -7.4277331 , -7.09902541, -6.92575309, -7.80367686,\n",
       "        -7.2909572 , -6.4675086 , -7.56281364, -6.5735452 , -6.81577007,\n",
       "        -5.10449155, -6.87796227, -7.54560705, -7.19039363, -7.11368542,\n",
       "        -7.94580871, -5.5299951 , -6.21720769, -7.2909572 , -7.82600651,\n",
       "        -6.68975477, -7.49030038, -6.17013021, -6.54387296, -7.03901223,\n",
       "        -6.68734139, -6.71421447, -7.26915618, -6.70435868, -7.34066112,\n",
       "        -5.91415014, -5.65234815, -5.21814569, -5.91415014, -7.01197041,\n",
       "        -5.57493409, -6.77811665, -7.38809572, -6.35077005, -7.7190336 ,\n",
       "        -7.25630011, -5.32025395, -6.17589511, -6.35249313, -6.56072057,\n",
       "        -6.9791651 , -7.25630011, -6.59309591, -7.64099906, -6.22780813,\n",
       "        -7.22280401, -7.3453046 , -7.17457403, -4.81728686, -6.02088915,\n",
       "        -6.27775172, -7.55130975, -7.23107344, -7.58032149, -7.60415255,\n",
       "        -6.58218725, -6.86061358, -7.11000022, -6.70681354, -6.96315739,\n",
       "        -7.1248232 , -6.34561855, -7.75343527, -6.64256019, -6.78075966,\n",
       "        -7.24782032, -6.5273045 , -7.7055976 , -7.14366637, -5.63200598,\n",
       "        -6.50697265, -5.18809463, -7.51205738, -4.61363896, -6.69946698,\n",
       "        -8.16291209, -6.22476795, -7.42269165, -4.73872711, -6.52320493,\n",
       "        -5.75601125, -7.37842709, -5.95502517, -7.37842709, -6.53762758,\n",
       "        -7.7258199 , -7.89615269, -6.59090464, -6.5649772 , -6.29388484,\n",
       "        -4.8447802 , -7.57445142, -6.52525261, -7.16675709, -6.48507496,\n",
       "        -5.75601125, -6.98564063, -8.03447517, -6.75206375, -5.85371245,\n",
       "        -7.77465906, -5.93097883, -4.55279788, -5.50900256, -7.49569541,\n",
       "        -8.02524627, -5.46048999, -6.28901752, -6.65648618, -7.31776174,\n",
       "        -6.52320493, -7.29537503, -6.21871518, -7.69233974, -6.87214587,\n",
       "        -6.06777138, -6.7624036 , -6.55648199, -7.81106482, -7.24360723,\n",
       "        -6.27137064, -7.7190336 , -6.98564063, -6.94428036, -6.12105651,\n",
       "        -7.19438795, -7.08457722, -5.77228959, -7.1248232 , -7.6727768 ,\n",
       "        -6.68253202, -5.7771282 , -7.01531091, -6.38580873, -5.95502517,\n",
       "        -7.26485243, -6.80758127, -6.61527685, -6.72167059, -7.00532269,\n",
       "        -7.18641521, -6.49695967, -5.45837188, -6.78606674, -6.22628689,\n",
       "        -6.37516762, -6.58218725, -7.02202559, -6.00981015, -6.68734139,\n",
       "        -7.38324972, -7.04244446, -3.81761046, -7.13231791, -7.58622623,\n",
       "        -7.17850553, -5.50382257, -7.64099906, -6.31691763, -6.47918515,\n",
       "        -7.01866262, -6.31525472, -6.71421447, -6.10074041, -6.09272815,\n",
       "        -5.40148214, -6.94740189, -7.16287142, -6.51302892, -6.80758127,\n",
       "        -5.29000097, -5.41489745, -6.53555442, -6.74182971, -5.88024326,\n",
       "        -7.13231791, -6.11696014, -6.00736473, -7.28655881, -6.84638277,\n",
       "        -6.29388484, -6.18898895, -6.79676615, -6.1376119 , -7.07033481,\n",
       "        -5.58849788, -6.95682537, -6.6518226 , -7.31776174, -6.62655458,\n",
       "        -5.01097681, -6.78340968, -6.18169344, -6.46557569, -7.65358924,\n",
       "        -5.53989349, -5.93211088, -6.75206375, -6.61527685, -7.56281364,\n",
       "        -4.58202149, -7.17457403, -6.82126676, -2.70608157, -6.05488222,\n",
       "        -7.13608644, -7.69233974, -7.73265258, -6.22780813, -5.79178612,\n",
       "        -7.88811123, -4.31217712, -6.62428884, -7.15900079, -6.72918272,\n",
       "        -6.26503003, -7.13608644, -5.54142505, -5.58528981, -7.02539991,\n",
       "        -6.11288048, -6.78075966, -6.80215909, -7.69233974, -6.59090464,\n",
       "        -6.32695357, -5.83195796, -6.3716456 , -6.975943  , -6.91057166,\n",
       "        -7.01531091, -6.83235163, -6.67060884, -5.99281648, -7.22280401,\n",
       "        -6.51505585, -7.5686156 , -7.00864102, -7.82600651, -6.58653645,\n",
       "        -7.43789289, -7.3360391 , -6.41658841, -8.46883569, -7.23523394,\n",
       "        -6.83514215, -6.84356074, -7.29981246, -6.25246816, -5.50456093,\n",
       "        -6.40743681, -6.27137064, -7.2909572 , -4.11266285, -5.68454286,\n",
       "        -7.10267031, -6.04215707, -5.95967171, -6.10611781, -5.96083673,\n",
       "        -7.93735958, -7.47428775, -6.57569872, -6.52320493, -6.26661142,\n",
       "        -6.06906949, -4.99531903, -6.87214587, -5.82582834, -7.24360723,\n",
       "        -6.89265303, -6.08214403, -7.63476292, -7.04588851, -6.42027263,\n",
       "        -6.27775172, -5.82991058, -6.46557569, -7.68577614, -6.20225651,\n",
       "        -6.98564063, -7.73265258, -6.10611781, -6.27137064, -7.13608644,\n",
       "        -6.4675086 , -6.57139631, -6.96315739, -5.86529938, -6.55226129,\n",
       "        -6.63796096, -5.90639264, -7.34066112, -6.95367433, -6.75206375,\n",
       "        -6.91358956, -7.19438795, -6.56072057, -6.26030082, -7.09902541,\n",
       "        -7.09902541, -7.25630011, -5.76363865, -7.27347853, -6.52320493,\n",
       "        -7.3453046 , -6.08874596, -7.37842709, -5.9538669 , -8.02524627,\n",
       "        -7.35465675, -8.08194218, -7.4849343 , -7.35465675, -7.43789289,\n",
       "        -5.5112308 , -7.79634309, -7.3736276 , -6.87214587, -7.09902541,\n",
       "        -7.67925535, -7.6162845 , -7.41268437, -7.09539375, -6.64256019,\n",
       "        -7.65358924, -6.78606674, -5.63874083, -7.12856354, -5.79573145,\n",
       "        -7.3453046 , -6.23544927, -5.79672022, -7.84884619, -5.48771511,\n",
       "        -7.45852749, -5.88996932, -7.59814134, -5.84953209, -6.75206375,\n",
       "        -6.33539449, -4.12170124, -5.73626182, -5.54449523, -6.38402733,\n",
       "        -7.04244446, -4.90579018, -7.28217968, -7.66633995, -7.00532269,\n",
       "        -6.09806252, -7.97159306, -8.07226681, -5.98801372, -6.46557569,\n",
       "        -5.55687109, -6.15444599, -5.47903736, -6.5501576 , -5.21151164,\n",
       "        -6.59090464, -6.42582454, -6.64949894, -6.68975477, -6.32863607,\n",
       "        -5.12702229, -5.32148331, -6.21419952, -5.4740099 , -7.00201532,\n",
       "        -6.63796096, -5.45485163, -5.582092  , -6.24006213, -6.68253202,\n",
       "        -7.49030038, -6.48114457, -7.12109681, -6.9791651 , -5.80068512,\n",
       "        -6.32192301, -5.35589706, -5.53303034, -6.92881723, -6.96952976,\n",
       "        -7.35465675, -5.55687109, -6.49298239, -7.31776174, -6.72918272,\n",
       "        -6.15586171, -7.63476292, -6.95367433, -6.49895427, -7.39296532,\n",
       "        -6.26819531, -7.64727434, -6.35249313, -4.10134237, -6.60634535,\n",
       "        -6.67774568, -6.18169344, -7.26056713, -7.00864102, -8.67474959],\n",
       "       [-6.62382484, -6.67017543, -6.25211613, -5.76146304, -6.42561584,\n",
       "        -7.32705225, -7.5114153 , -6.80236201, -6.41821349, -5.03437141,\n",
       "        -7.13303449, -6.91394723, -5.82338088, -6.69905336, -4.99602494,\n",
       "        -6.49402893, -6.37668162, -6.98415783, -6.40030599, -7.28231632,\n",
       "        -6.35533241, -6.6878847 , -7.41899565, -7.38448758, -6.60898882,\n",
       "        -6.74604189, -7.03956604, -6.91394723, -6.11378873, -6.47980987,\n",
       "        -5.55738613, -6.35741223, -6.50442546, -6.3916506 , -6.75736555,\n",
       "        -7.13605369, -7.22782808, -5.03853871, -5.27886113, -6.22287748,\n",
       "        -5.70315649, -7.44542382, -6.80561606, -6.61390974, -6.49363121,\n",
       "        -6.99854792, -6.5987772 , -5.6959672 , -7.2171139 , -5.74665879,\n",
       "        -6.9770397 , -5.97723135, -6.42190782, -6.61301323, -6.6792302 ,\n",
       "        -7.16753769, -7.18405586, -6.24464843, -5.21199356, -6.18712594,\n",
       "        -7.27882243, -7.20894963, -6.27517932, -6.54796674, -6.52678088,\n",
       "        -7.16054116, -7.28494477, -7.12030363, -7.39520521, -6.70493038,\n",
       "        -6.10998836, -6.43157743, -6.57866157, -6.81379783, -6.49482484,\n",
       "        -7.13832408, -6.21502211, -6.39741252, -5.30165895, -7.23114799,\n",
       "        -7.21139192, -7.18405586, -7.38061856, -7.25385032, -6.30634202,\n",
       "        -4.43356173, -6.86204439, -7.39618526, -6.5153375 , -6.60498054,\n",
       "        -6.75014476, -7.30712146, -7.21139192, -7.50047255, -7.06670086,\n",
       "        -7.0589726 , -6.36123652, -6.98415783, -6.85460028, -6.85402995,\n",
       "        -5.5705693 , -6.80507299, -7.23949628, -7.36624163, -6.63429683,\n",
       "        -7.07165012, -5.44081399, -6.35880119, -7.26324924, -7.22948666,\n",
       "        -6.35845377, -7.10187137, -5.61317111, -6.53918873, -6.73687152,\n",
       "        -6.85289025, -6.05413818, -5.55101407, -6.3529114 , -7.04852942,\n",
       "        -6.0520905 , -7.2902225 , -5.35217189, -5.88591625, -7.09822534,\n",
       "        -5.50988758, -6.6792302 , -7.07023354, -6.47589575, -7.07023354,\n",
       "        -5.86152926, -5.33193326, -6.09813751, -6.97768471, -7.01448604,\n",
       "        -7.15436284, -6.66733298, -6.0388818 , -7.04922225, -5.97723135,\n",
       "        -6.57132876, -7.23197969, -6.91697872, -5.29648093, -5.98533076,\n",
       "        -5.79036703, -6.96869217, -6.88471509, -7.17536947, -6.17231023,\n",
       "        -6.43382222, -7.45473722, -6.67779504, -6.83875259, -6.37103758,\n",
       "        -7.01582575, -6.13773468, -6.75633081, -6.32632366, -5.69793911,\n",
       "        -7.3161317 , -6.34431246, -7.11067647, -7.33163792, -5.12666553,\n",
       "        -6.80344552, -5.45324023, -7.30891702, -4.56405094, -6.64905142,\n",
       "        -7.22534537, -5.88224165, -7.34925779, -4.78771637, -6.30799199,\n",
       "        -5.46767405, -7.30801884, -5.55489464, -7.19602387, -5.95796318,\n",
       "        -7.22534537, -6.97575092, -6.34705609, -6.39849659, -6.90131439,\n",
       "        -4.84906404, -7.11733154, -6.50161575, -7.01047763, -6.99067312,\n",
       "        -5.78840079, -7.24960711, -6.84834442, -6.29519383, -5.65336921,\n",
       "        -7.06811243, -6.36542522, -4.16936141, -5.91180138, -7.34273008,\n",
       "        -7.24285521, -4.24030211, -6.11134398, -6.386636  , -7.25811161,\n",
       "        -7.61936409, -7.15744723, -6.46077541, -7.18167935, -6.10055015,\n",
       "        -6.15063137, -6.63109808, -5.93155131, -7.20894963, -6.99723114,\n",
       "        -6.1452843 , -6.14809498, -6.4057539 , -6.79373595, -5.7819395 ,\n",
       "        -7.39814825, -6.82094324, -6.20633255, -6.59173447, -6.92551611,\n",
       "        -7.53704756, -6.14192187, -7.39324799, -6.81544224, -6.84947894,\n",
       "        -7.32248752, -7.51472161, -6.62790953, -5.93541201, -7.13984055,\n",
       "        -6.63201096, -6.72377214, -5.85101802, -6.63064195, -6.30865274,\n",
       "        -6.84947894, -7.40011509, -7.1315283 , -5.97226134, -6.85004669,\n",
       "        -7.09895348, -6.63612929, -4.03091918, -6.75426454, -7.04025269,\n",
       "        -7.1920186 , -5.06248722, -7.26668905, -6.12775637, -6.03762087,\n",
       "        -6.89952266, -6.80779133, -7.5449809 , -6.25180386, -5.92770546,\n",
       "        -4.5683329 , -6.41379824, -5.79056386, -6.27677863, -7.15976678,\n",
       "        -5.61004372, -5.15514091, -5.79609108, -6.57347989, -5.75669418,\n",
       "        -7.06177597, -6.44550127, -7.0464538 , -6.62927481, -6.97125323,\n",
       "        -6.71282053, -5.8872164 , -6.74297575, -5.71549817, -7.02932254,\n",
       "        -7.03545604, -6.95977977, -6.57391067, -6.39741252, -7.04025269,\n",
       "        -5.01596658, -6.8929803 , -6.18187177, -6.01963773, -7.31522701,\n",
       "        -5.89527155, -6.35222075, -6.82149501, -5.66424009, -7.22286881,\n",
       "        -4.88956982, -7.38545718, -6.92368052, -3.21395128, -6.87768459,\n",
       "        -7.05827299, -7.21875478, -7.0464538 , -6.00440722, -6.13356495,\n",
       "        -7.2831917 , -4.38301837, -6.76672669, -7.1011411 , -6.94343601,\n",
       "        -7.49504575, -7.38642771, -5.76837039, -6.16369656, -6.9212383 ,\n",
       "        -5.96005993, -7.46729158, -6.80019851, -7.20651329, -6.93289233,\n",
       "        -6.39596893, -6.37244561, -6.93474492, -7.12777273, -7.47362836,\n",
       "        -6.68836771, -7.50483529, -6.54043802, -6.31528438, -7.20894963,\n",
       "        -6.3532569 , -5.80884062, -7.36529048, -7.23114799, -6.9965734 ,\n",
       "        -7.23949628, -7.27708005, -7.09604409, -7.11288991, -6.84721118,\n",
       "        -6.76359656, -6.90610811, -6.8067031 , -6.23754383, -5.1038208 ,\n",
       "        -6.56746834, -6.67397798, -7.16442208, -4.58800928, -6.14388192,\n",
       "        -6.52513807, -6.40757648, -6.49323366, -6.08589633, -5.97936893,\n",
       "        -6.79803968, -6.77039093, -6.27581874, -7.13529803, -7.07591192,\n",
       "        -6.38485115, -4.89510207, -7.3161317 , -6.82758464, -7.24285521,\n",
       "        -7.12253851, -5.69883672, -6.71084215, -6.96869217, -6.15091359,\n",
       "        -6.83931428, -6.82869584, -6.25932538, -6.71778367, -5.88656611,\n",
       "        -6.90791169, -7.22617226, -6.61840442, -6.22713299, -7.30443414,\n",
       "        -6.10890519, -6.753233  , -7.4746884 , -6.00367611, -7.26927669,\n",
       "        -7.12927327, -6.24217153, -7.21220734, -6.93474492, -6.65044589,\n",
       "        -7.41000778, -6.89476034, -6.52267891, -6.23539155, -7.00317035,\n",
       "        -7.39324799, -7.30532911, -5.66077619, -7.39031931, -6.1965354 ,\n",
       "        -7.12328458, -6.01101137, -7.16054116, -6.60143106, -6.63612929,\n",
       "        -5.93951612, -7.11436826, -7.20570249, -7.34552245, -6.87360617,\n",
       "        -6.00660376, -6.93412701, -6.95283248, -6.85232089, -7.18882589,\n",
       "        -7.2684134 , -7.26927669, -6.8817797 , -7.03750893, -6.84156418,\n",
       "        -7.19042097, -6.78945066, -5.80543814, -7.39520521, -5.63685919,\n",
       "        -6.30832231, -6.06755131, -5.87257944, -7.20813685, -5.4568997 ,\n",
       "        -6.97382086, -6.14781356, -7.18802931, -5.53168196, -6.80997134,\n",
       "        -6.20573604, -4.45326518, -6.52308835, -5.73318517, -6.39272843,\n",
       "        -6.09813751, -4.61425428, -6.85118314, -6.99788931, -7.10699825,\n",
       "        -6.36054011, -6.95283248, -6.9965734 , -6.20961971, -6.53131257,\n",
       "        -5.7122164 , -6.131625  , -6.4723861 , -6.70689709, -5.06220211,\n",
       "        -6.77196544, -7.03477268, -6.68066743, -6.05336981, -5.97226134,\n",
       "        -5.187893  , -5.28810854, -6.51371337, -5.68262503, -7.10626423,\n",
       "        -6.52719201, -4.99079135, -5.4968886 , -6.05850348, -6.46308679,\n",
       "        -7.00914506, -6.48413317, -6.74246563, -7.17066305, -5.85164559,\n",
       "        -7.02525434, -5.5180986 , -5.66216031, -6.96869217, -7.25896605,\n",
       "        -7.03682416, -5.16699417, -6.87418779, -6.95977977, -6.82980827,\n",
       "        -6.08934063, -7.16988079, -6.78305697, -5.83504376, -6.12996519,\n",
       "        -6.22530698, -6.72929326, -6.40175586, -4.579881  , -7.48642367,\n",
       "        -6.33003067, -5.83731023, -7.35677057, -6.86954433, -6.99986644]])"
      ]
     },
     "execution_count": 123,
     "metadata": {},
     "output_type": "execute_result"
    }
   ],
   "source": [
    "# Empirical log probability of features given a class(i.e. P(x_i|y))\n",
    "log_prob = nb_optimal.feature_log_prob_\n",
    "log_prob"
   ]
  },
  {
   "cell_type": "code",
   "execution_count": 124,
   "metadata": {},
   "outputs": [
    {
     "data": {
      "text/plain": [
       "(500, 2)"
      ]
     },
     "execution_count": 124,
     "metadata": {},
     "output_type": "execute_result"
    }
   ],
   "source": [
    "feature_prob = pd.DataFrame(log_prob, columns = tfidf_features)\n",
    "feature_prob_tr = feature_prob.T\n",
    "feature_prob_tr.shape"
   ]
  },
  {
   "cell_type": "code",
   "execution_count": 128,
   "metadata": {},
   "outputs": [
    {
     "name": "stdout",
     "output_type": "stream",
     "text": [
      "Train accuracy 0.876811679797777\n"
     ]
    }
   ],
   "source": [
    "# Accuracy on train data\n",
    "train_acc_tfidf = nb_optimal.score(X_train_tfidf, y_train)\n",
    "print(\"Train accuracy\", train_acc_tfidf)"
   ]
  },
  {
   "cell_type": "code",
   "execution_count": 129,
   "metadata": {},
   "outputs": [
    {
     "name": "stdout",
     "output_type": "stream",
     "text": [
      "Train Error 0.123188%\n"
     ]
    }
   ],
   "source": [
    "# Error on train data\n",
    "train_err_tfidf = 1-train_acc_tfidf\n",
    "print(\"Train Error %f%%\" % (train_err_tfidf))"
   ]
  },
  {
   "cell_type": "code",
   "execution_count": 130,
   "metadata": {},
   "outputs": [
    {
     "name": "stdout",
     "output_type": "stream",
     "text": [
      "\n",
      "The accuracy of the naive bayes classifier for alpha = 0 is 87.301549%\n"
     ]
    }
   ],
   "source": [
    "# evaluate accuracy\n",
    "acc_tfidf = accuracy_score(y_test, pred) * 100\n",
    "print('\\nThe accuracy of the naive bayes classifier for alpha = %d is %f%%' % (optimal_alpha_tfidf, acc_tfidf))"
   ]
  },
  {
   "cell_type": "code",
   "execution_count": 131,
   "metadata": {},
   "outputs": [
    {
     "data": {
      "text/plain": [
       "array([[ 3656,  2961],\n",
       "       [ 2334, 32747]], dtype=int64)"
      ]
     },
     "execution_count": 131,
     "metadata": {},
     "output_type": "execute_result"
    }
   ],
   "source": [
    "#from sklearn.matrics import confusion_matrix\n",
    "cm = confusion_matrix(y_test, pred)\n",
    "cm"
   ]
  },
  {
   "cell_type": "code",
   "execution_count": 132,
   "metadata": {},
   "outputs": [
    {
     "data": {
      "image/png": "[encoded data removed]",
      "text/plain": [
       "<Figure size 432x288 with 2 Axes>"
      ]
     },
     "metadata": {},
     "output_type": "display_data"
    }
   ],
   "source": [
    "#https://www.kaggle.com/premvardhan/amazon-fine-food-reviews-analysis-naive-bayes\n",
    "class_label = [\"negative\", \"positive\"]\n",
    "df_cm = pd.DataFrame(cm, index = class_label, columns = class_label)\n",
    "sns.heatmap(df_cm, annot = True, fmt = \"d\")\n",
    "plt.title(\"Confusion Matrix\")\n",
    "plt.xlabel(\"Predicted Label\")\n",
    "plt.ylabel(\"True Label\")\n",
    "plt.show()"
   ]
  },
  {
   "cell_type": "markdown",
   "metadata": {
    "colab_type": "text",
    "id": "Dtpj7iMSJkln"
   },
   "source": [
    "### [5.2.1] Top 10 important features of positive class from<font color='red'> SET 2</font>"
   ]
  },
  {
   "cell_type": "code",
   "execution_count": 133,
   "metadata": {
    "colab": {},
    "colab_type": "code",
    "id": "g3flcTmmJklo"
   },
   "outputs": [
    {
     "name": "stdout",
     "output_type": "stream",
     "text": [
      "\n",
      "\n",
      " Top 10 positive features:-\n",
      " not get       -3.213951\n",
      "liked         -4.030919\n",
      "granola       -4.169361\n",
      "green tea     -4.240302\n",
      "often         -4.383018\n",
      "cold          -4.433562\n",
      "tastes like   -4.453265\n",
      "flavored      -4.564051\n",
      "loves         -4.568333\n",
      "would not     -4.579881\n",
      "Name: 1, dtype: float64\n"
     ]
    }
   ],
   "source": [
    "# Please write all the code with proper documentation\n",
    "# To show top 10 feature from both class\n",
    "print(\"\\n\\n Top 10 positive features:-\\n\",feature_prob_tr[1].sort_values(ascending = False)[0:10])"
   ]
  },
  {
   "cell_type": "markdown",
   "metadata": {
    "colab_type": "text",
    "id": "UovIVRyEJklq"
   },
   "source": [
    "### [5.2.2] Top 10 important features of negative class from<font color='red'> SET 2</font>"
   ]
  },
  {
   "cell_type": "code",
   "execution_count": 134,
   "metadata": {
    "colab": {},
    "colab_type": "code",
    "id": "i3i3cShuJklr"
   },
   "outputs": [
    {
     "name": "stdout",
     "output_type": "stream",
     "text": [
      "Top 10 negative features:-\n",
      " not get       -2.706082\n",
      "liked         -3.817610\n",
      "would not     -4.101342\n",
      "problems      -4.112663\n",
      "tastes like   -4.121701\n",
      "often         -4.312177\n",
      "cold          -4.461562\n",
      "granola       -4.552798\n",
      "not           -4.582021\n",
      "flavored      -4.613639\n",
      "Name: 0, dtype: float64\n"
     ]
    }
   ],
   "source": [
    "# Please write all the code with proper documentation\n",
    "print(\"Top 10 negative features:-\\n\",feature_prob_tr[0].sort_values(ascending = False)[0:10])"
   ]
  },
  {
   "cell_type": "code",
   "execution_count": 135,
   "metadata": {},
   "outputs": [
    {
     "name": "stdout",
     "output_type": "stream",
     "text": [
      "             precision    recall  f1-score   support\n",
      "\n",
      "          0       0.61      0.55      0.58      6617\n",
      "          1       0.92      0.93      0.93     35081\n",
      "\n",
      "avg / total       0.87      0.87      0.87     41698\n",
      "\n"
     ]
    }
   ],
   "source": [
    "#https://www.kaggle.com/premvardhan/amazon-fine-food-reviews-analysis-naive-bayes\n",
    "import warnings\n",
    "warnings.filterwarnings(\"ignore\")\n",
    "from sklearn.metrics import classification_report\n",
    "print(classification_report(y_test, pred))"
   ]
  },
  {
   "cell_type": "markdown",
   "metadata": {},
   "source": [
    "<h3>Conclusion for tfidf</h3>"
   ]
  },
  {
   "cell_type": "markdown",
   "metadata": {},
   "source": [
    "<b>Observations:</b><br>\n",
    "1.The precision,recall and the f-1 score is quite good.<br>\n",
    "2.As in \"naive baiyes with tfidf\" when alpha = 1.8561 the accuracy is quite better than bow implementation. In this model, train_error is low around 12%<br>\n",
    "3.We saw a decrease in accuracy rate by almost 3% when switched with tfidf.<br>\n",
    "4.After printing top feature from both class we found that features words like not,like etc. are used as both in the positive features."
   ]
  },
  {
   "cell_type": "code",
   "execution_count": 136,
   "metadata": {},
   "outputs": [
    {
     "name": "stdout",
     "output_type": "stream",
     "text": [
      "+------------+-------+-----------------+--------+\n",
      "| Vectorizer | Model | Hyper Parameter |  AUC   |\n",
      "+------------+-------+-----------------+--------+\n",
      "|    BOW     | Brute |      0.0441     | 0.9093 |\n",
      "|   TFIDF    | Brute |      1.8561     | 0.8849 |\n",
      "+------------+-------+-----------------+--------+\n"
     ]
    }
   ],
   "source": [
    "# Please compare all your models using Prettytable library\n",
    "#!/usr/bin/python3\n",
    "\n",
    "from prettytable import PrettyTable\n",
    "    \n",
    "x = PrettyTable()\n",
    "\n",
    "x.field_names = [\"Vectorizer\", \"Model\", \"Hyper Parameter\", \"AUC\"]\n",
    "x.add_row([\"BOW\",\"Brute\", 0.0441, 0.9093])\n",
    "x.add_row([\"TFIDF\",\"Brute\", 1.8561, 0.8849])\n",
    "\n",
    "print(x)"
   ]
  },
  {
   "cell_type": "markdown",
   "metadata": {
    "colab_type": "text",
    "id": "vst5Y7mmJklu"
   },
   "source": [
    "# [6] Conclusions"
   ]
  },
  {
   "cell_type": "markdown",
   "metadata": {
    "colab": {},
    "colab_type": "code",
    "collapsed": true,
    "id": "De9HYtIGJklv"
   },
   "source": [
    "1.Naive bayes are good at text classification task like spam filtering, sentimental analysis, RS etc.<br>\n",
    "2.Initially bow is a good model for understanding how the train and test data performs. As we know when a model performs good on training data but poor performance on unseen data(test data)i.e. its dependent on training data only, tends to overfit and when a model perform poor performance on training data and good performance on test data i.e. it fails to learn relationship in training data then it tends to underfit the model. We need to balance between both i.e. reduce training error and balance error between both training and testing which is balanced in this case.<br>\n",
    "3.Another concept bias vs variance is also related with underfitting and overfitting. when a model has high bias and low variance tend to underfitting and its reverse- high variance and low bias called overfitting and we balanced using cross-validataion. As it is shown in below table where both models have low training error and test error.<br>\n",
    "4.Overall, both of the models are performing well on unseen data.<br>\n",
    "5.As we are not applying naive bayes on word2vec representation because it sometimes gives -ve value(i.e. if two word have 0 cosine similarity the word is completly orthogonal i.e. they are not related with each other. and 1 represents perfect relationship between word vector. whereas -ve similarity means they are perfect opposite relationship between word) and we know naive bayes assume that presence of a particular feature in a class is unrelated to presence of any other feature, which is most unlikely in real word. Although, it works well.<br>\n",
    "6.And from point # 5, features are dependent or there are relationship between features. So applying naive bayes on dependent feature does not make any sense.\n"
   ]
  }
 ],
 "metadata": {
  "colab": {
   "name": "04 Amazon Fine Food Reviews Analysis_NaiveBayes.ipynb",
   "provenance": [],
   "version": "0.3.2"
  },
  "kernelspec": {
   "display_name": "Python 3",
   "language": "python",
   "name": "python3"
  },
  "language_info": {
   "codemirror_mode": {
    "name": "ipython",
    "version": 3
   },
   "file_extension": ".py",
   "mimetype": "text/x-python",
   "name": "python",
   "nbconvert_exporter": "python",
   "pygments_lexer": "ipython3",
   "version": "3.6.3"
  }
 },
 "nbformat": 4,
 "nbformat_minor": 1
}
